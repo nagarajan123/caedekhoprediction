{
 "cells": [
  {
   "cell_type": "markdown",
   "id": "f667b9b6",
   "metadata": {},
   "source": [
    "**End to End ML Project deployment steps**\n",
    " \n",
    " 1. Create new enviroment to setup the necessary packages required.\n",
    " cmd = conda create -n {Env_name} python={python_version_number}\n",
    " 2. To activate the created environment from above step\n",
    " cmd = conda activate {Env_name}\n",
    " 3. Install necessary packages\n",
    " "
   ]
  },
  {
   "cell_type": "code",
   "execution_count": 1,
   "id": "3b9dab99",
   "metadata": {},
   "outputs": [],
   "source": [
    "import pandas as pd"
   ]
  },
  {
   "cell_type": "code",
   "execution_count": 2,
   "id": "73c929c5",
   "metadata": {},
   "outputs": [
    {
     "data": {
      "text/html": [
       "<div>\n",
       "<style scoped>\n",
       "    .dataframe tbody tr th:only-of-type {\n",
       "        vertical-align: middle;\n",
       "    }\n",
       "\n",
       "    .dataframe tbody tr th {\n",
       "        vertical-align: top;\n",
       "    }\n",
       "\n",
       "    .dataframe thead th {\n",
       "        text-align: right;\n",
       "    }\n",
       "</style>\n",
       "<table border=\"1\" class=\"dataframe\">\n",
       "  <thead>\n",
       "    <tr style=\"text-align: right;\">\n",
       "      <th></th>\n",
       "      <th>Car_Name</th>\n",
       "      <th>Year</th>\n",
       "      <th>Selling_Price</th>\n",
       "      <th>Present_Price</th>\n",
       "      <th>Kms_Driven</th>\n",
       "      <th>Fuel_Type</th>\n",
       "      <th>Seller_Type</th>\n",
       "      <th>Transmission</th>\n",
       "      <th>Owner</th>\n",
       "    </tr>\n",
       "  </thead>\n",
       "  <tbody>\n",
       "    <tr>\n",
       "      <th>0</th>\n",
       "      <td>ritz</td>\n",
       "      <td>2014</td>\n",
       "      <td>3.35</td>\n",
       "      <td>5.59</td>\n",
       "      <td>27000</td>\n",
       "      <td>Petrol</td>\n",
       "      <td>Dealer</td>\n",
       "      <td>Manual</td>\n",
       "      <td>0</td>\n",
       "    </tr>\n",
       "    <tr>\n",
       "      <th>1</th>\n",
       "      <td>sx4</td>\n",
       "      <td>2013</td>\n",
       "      <td>4.75</td>\n",
       "      <td>9.54</td>\n",
       "      <td>43000</td>\n",
       "      <td>Diesel</td>\n",
       "      <td>Dealer</td>\n",
       "      <td>Manual</td>\n",
       "      <td>0</td>\n",
       "    </tr>\n",
       "    <tr>\n",
       "      <th>2</th>\n",
       "      <td>ciaz</td>\n",
       "      <td>2017</td>\n",
       "      <td>7.25</td>\n",
       "      <td>9.85</td>\n",
       "      <td>6900</td>\n",
       "      <td>Petrol</td>\n",
       "      <td>Dealer</td>\n",
       "      <td>Manual</td>\n",
       "      <td>0</td>\n",
       "    </tr>\n",
       "    <tr>\n",
       "      <th>3</th>\n",
       "      <td>wagon r</td>\n",
       "      <td>2011</td>\n",
       "      <td>2.85</td>\n",
       "      <td>4.15</td>\n",
       "      <td>5200</td>\n",
       "      <td>Petrol</td>\n",
       "      <td>Dealer</td>\n",
       "      <td>Manual</td>\n",
       "      <td>0</td>\n",
       "    </tr>\n",
       "    <tr>\n",
       "      <th>4</th>\n",
       "      <td>swift</td>\n",
       "      <td>2014</td>\n",
       "      <td>4.60</td>\n",
       "      <td>6.87</td>\n",
       "      <td>42450</td>\n",
       "      <td>Diesel</td>\n",
       "      <td>Dealer</td>\n",
       "      <td>Manual</td>\n",
       "      <td>0</td>\n",
       "    </tr>\n",
       "    <tr>\n",
       "      <th>5</th>\n",
       "      <td>vitara brezza</td>\n",
       "      <td>2018</td>\n",
       "      <td>9.25</td>\n",
       "      <td>9.83</td>\n",
       "      <td>2071</td>\n",
       "      <td>Diesel</td>\n",
       "      <td>Dealer</td>\n",
       "      <td>Manual</td>\n",
       "      <td>0</td>\n",
       "    </tr>\n",
       "    <tr>\n",
       "      <th>6</th>\n",
       "      <td>ciaz</td>\n",
       "      <td>2015</td>\n",
       "      <td>6.75</td>\n",
       "      <td>8.12</td>\n",
       "      <td>18796</td>\n",
       "      <td>Petrol</td>\n",
       "      <td>Dealer</td>\n",
       "      <td>Manual</td>\n",
       "      <td>0</td>\n",
       "    </tr>\n",
       "  </tbody>\n",
       "</table>\n",
       "</div>"
      ],
      "text/plain": [
       "        Car_Name  Year  Selling_Price  Present_Price  Kms_Driven Fuel_Type  \\\n",
       "0           ritz  2014           3.35           5.59       27000    Petrol   \n",
       "1            sx4  2013           4.75           9.54       43000    Diesel   \n",
       "2           ciaz  2017           7.25           9.85        6900    Petrol   \n",
       "3        wagon r  2011           2.85           4.15        5200    Petrol   \n",
       "4          swift  2014           4.60           6.87       42450    Diesel   \n",
       "5  vitara brezza  2018           9.25           9.83        2071    Diesel   \n",
       "6           ciaz  2015           6.75           8.12       18796    Petrol   \n",
       "\n",
       "  Seller_Type Transmission  Owner  \n",
       "0      Dealer       Manual      0  \n",
       "1      Dealer       Manual      0  \n",
       "2      Dealer       Manual      0  \n",
       "3      Dealer       Manual      0  \n",
       "4      Dealer       Manual      0  \n",
       "5      Dealer       Manual      0  \n",
       "6      Dealer       Manual      0  "
      ]
     },
     "execution_count": 2,
     "metadata": {},
     "output_type": "execute_result"
    }
   ],
   "source": [
    "df = pd.read_csv(\"car data.csv\")\n",
    "df.head(7)"
   ]
  },
  {
   "cell_type": "code",
   "execution_count": 6,
   "id": "63a1899c",
   "metadata": {},
   "outputs": [
    {
     "data": {
      "text/plain": [
       "(301, 9)"
      ]
     },
     "execution_count": 6,
     "metadata": {},
     "output_type": "execute_result"
    }
   ],
   "source": [
    "df.shape"
   ]
  },
  {
   "cell_type": "markdown",
   "id": "94b5cff3",
   "metadata": {},
   "source": [
    "**Find the categorical features in the dataset**"
   ]
  },
  {
   "cell_type": "code",
   "execution_count": 17,
   "id": "f49539b8",
   "metadata": {},
   "outputs": [],
   "source": [
    "cat_cols =[ feature for feature in df.columns if df[feature].dtypes=='O' ]\n",
    "cat_cols.remove(\"Car_Name\")\n",
    "cat_cols.extend([\"Owner\"])"
   ]
  },
  {
   "cell_type": "markdown",
   "id": "c07a7d8b",
   "metadata": {},
   "source": [
    "**Finding the unique categories in the cat features** "
   ]
  },
  {
   "cell_type": "code",
   "execution_count": 20,
   "id": "63ec364b",
   "metadata": {},
   "outputs": [
    {
     "name": "stdout",
     "output_type": "stream",
     "text": [
      "The no. of unique values in Fuel_Type are : ['Petrol' 'Diesel' 'CNG']\n",
      "The no. of unique values in Seller_Type are : ['Dealer' 'Individual']\n",
      "The no. of unique values in Transmission are : ['Manual' 'Automatic']\n",
      "The no. of unique values in Owner are : [0 1 3]\n"
     ]
    }
   ],
   "source": [
    "for feature in cat_cols:\n",
    "    print(\"The no. of unique values in {} are : {}\".format(feature,df[feature].unique()))"
   ]
  },
  {
   "cell_type": "markdown",
   "id": "9d7bb382",
   "metadata": {},
   "source": [
    "**Finding and Treating the missing values in the dataset**"
   ]
  },
  {
   "cell_type": "code",
   "execution_count": 24,
   "id": "257133b3",
   "metadata": {},
   "outputs": [
    {
     "name": "stdout",
     "output_type": "stream",
     "text": [
      "Collecting missingno\n",
      "  Downloading missingno-0.5.1-py3-none-any.whl (8.7 kB)\n",
      "Collecting scipy\n",
      "  Downloading scipy-1.8.1-cp38-cp38-win_amd64.whl (36.9 MB)\n",
      "Requirement already satisfied: numpy in c:\\users\\nagarajan-pc\\anaconda3\\envs\\cardekhoenv\\lib\\site-packages (from missingno) (1.22.4)\n",
      "Collecting seaborn\n",
      "  Downloading seaborn-0.11.2-py3-none-any.whl (292 kB)\n",
      "Requirement already satisfied: matplotlib in c:\\users\\nagarajan-pc\\anaconda3\\envs\\cardekhoenv\\lib\\site-packages (from missingno) (3.5.2)\n",
      "Requirement already satisfied: pillow>=6.2.0 in c:\\users\\nagarajan-pc\\anaconda3\\envs\\cardekhoenv\\lib\\site-packages (from matplotlib->missingno) (9.1.1)\n",
      "Requirement already satisfied: pyparsing>=2.2.1 in c:\\users\\nagarajan-pc\\anaconda3\\envs\\cardekhoenv\\lib\\site-packages (from matplotlib->missingno) (3.0.9)\n",
      "Requirement already satisfied: python-dateutil>=2.7 in c:\\users\\nagarajan-pc\\anaconda3\\envs\\cardekhoenv\\lib\\site-packages (from matplotlib->missingno) (2.8.2)\n",
      "Requirement already satisfied: packaging>=20.0 in c:\\users\\nagarajan-pc\\anaconda3\\envs\\cardekhoenv\\lib\\site-packages (from matplotlib->missingno) (21.3)\n",
      "Requirement already satisfied: kiwisolver>=1.0.1 in c:\\users\\nagarajan-pc\\anaconda3\\envs\\cardekhoenv\\lib\\site-packages (from matplotlib->missingno) (1.4.2)\n",
      "Requirement already satisfied: fonttools>=4.22.0 in c:\\users\\nagarajan-pc\\anaconda3\\envs\\cardekhoenv\\lib\\site-packages (from matplotlib->missingno) (4.33.3)\n",
      "Requirement already satisfied: cycler>=0.10 in c:\\users\\nagarajan-pc\\anaconda3\\envs\\cardekhoenv\\lib\\site-packages (from matplotlib->missingno) (0.11.0)\n",
      "Requirement already satisfied: six>=1.5 in c:\\users\\nagarajan-pc\\anaconda3\\envs\\cardekhoenv\\lib\\site-packages (from python-dateutil>=2.7->matplotlib->missingno) (1.16.0)\n",
      "Collecting pandas>=0.23\n",
      "  Downloading pandas-1.4.2-cp38-cp38-win_amd64.whl (10.6 MB)\n",
      "Collecting pytz>=2020.1\n",
      "  Using cached pytz-2022.1-py2.py3-none-any.whl (503 kB)\n",
      "Installing collected packages: pytz, scipy, pandas, seaborn, missingno\n",
      "Successfully installed missingno-0.5.1 pandas-1.4.2 pytz-2022.1 scipy-1.8.1 seaborn-0.11.2\n"
     ]
    }
   ],
   "source": [
    "!pip install missingno"
   ]
  },
  {
   "cell_type": "markdown",
   "id": "842d6936",
   "metadata": {},
   "source": [
    "*Another way to find the missing values in given dataset*"
   ]
  },
  {
   "cell_type": "code",
   "execution_count": 32,
   "id": "b4408fad",
   "metadata": {},
   "outputs": [
    {
     "data": {
      "text/plain": [
       "Car_Name         0\n",
       "Year             0\n",
       "Selling_Price    0\n",
       "Present_Price    0\n",
       "Kms_Driven       0\n",
       "Fuel_Type        0\n",
       "Seller_Type      0\n",
       "Transmission     0\n",
       "Owner            0\n",
       "dtype: int64"
      ]
     },
     "execution_count": 32,
     "metadata": {},
     "output_type": "execute_result"
    }
   ],
   "source": [
    "df.isnull().sum()"
   ]
  },
  {
   "cell_type": "markdown",
   "id": "06908b10",
   "metadata": {},
   "source": [
    "**Describe the 5 pointer stats for numerical features in the datset**"
   ]
  },
  {
   "cell_type": "code",
   "execution_count": 33,
   "id": "f0fa795d",
   "metadata": {},
   "outputs": [
    {
     "data": {
      "text/html": [
       "<div>\n",
       "<style scoped>\n",
       "    .dataframe tbody tr th:only-of-type {\n",
       "        vertical-align: middle;\n",
       "    }\n",
       "\n",
       "    .dataframe tbody tr th {\n",
       "        vertical-align: top;\n",
       "    }\n",
       "\n",
       "    .dataframe thead th {\n",
       "        text-align: right;\n",
       "    }\n",
       "</style>\n",
       "<table border=\"1\" class=\"dataframe\">\n",
       "  <thead>\n",
       "    <tr style=\"text-align: right;\">\n",
       "      <th></th>\n",
       "      <th>Year</th>\n",
       "      <th>Selling_Price</th>\n",
       "      <th>Present_Price</th>\n",
       "      <th>Kms_Driven</th>\n",
       "      <th>Owner</th>\n",
       "    </tr>\n",
       "  </thead>\n",
       "  <tbody>\n",
       "    <tr>\n",
       "      <th>count</th>\n",
       "      <td>301.000000</td>\n",
       "      <td>301.000000</td>\n",
       "      <td>301.000000</td>\n",
       "      <td>301.000000</td>\n",
       "      <td>301.000000</td>\n",
       "    </tr>\n",
       "    <tr>\n",
       "      <th>mean</th>\n",
       "      <td>2013.627907</td>\n",
       "      <td>4.661296</td>\n",
       "      <td>7.628472</td>\n",
       "      <td>36947.205980</td>\n",
       "      <td>0.043189</td>\n",
       "    </tr>\n",
       "    <tr>\n",
       "      <th>std</th>\n",
       "      <td>2.891554</td>\n",
       "      <td>5.082812</td>\n",
       "      <td>8.644115</td>\n",
       "      <td>38886.883882</td>\n",
       "      <td>0.247915</td>\n",
       "    </tr>\n",
       "    <tr>\n",
       "      <th>min</th>\n",
       "      <td>2003.000000</td>\n",
       "      <td>0.100000</td>\n",
       "      <td>0.320000</td>\n",
       "      <td>500.000000</td>\n",
       "      <td>0.000000</td>\n",
       "    </tr>\n",
       "    <tr>\n",
       "      <th>25%</th>\n",
       "      <td>2012.000000</td>\n",
       "      <td>0.900000</td>\n",
       "      <td>1.200000</td>\n",
       "      <td>15000.000000</td>\n",
       "      <td>0.000000</td>\n",
       "    </tr>\n",
       "    <tr>\n",
       "      <th>50%</th>\n",
       "      <td>2014.000000</td>\n",
       "      <td>3.600000</td>\n",
       "      <td>6.400000</td>\n",
       "      <td>32000.000000</td>\n",
       "      <td>0.000000</td>\n",
       "    </tr>\n",
       "    <tr>\n",
       "      <th>75%</th>\n",
       "      <td>2016.000000</td>\n",
       "      <td>6.000000</td>\n",
       "      <td>9.900000</td>\n",
       "      <td>48767.000000</td>\n",
       "      <td>0.000000</td>\n",
       "    </tr>\n",
       "    <tr>\n",
       "      <th>max</th>\n",
       "      <td>2018.000000</td>\n",
       "      <td>35.000000</td>\n",
       "      <td>92.600000</td>\n",
       "      <td>500000.000000</td>\n",
       "      <td>3.000000</td>\n",
       "    </tr>\n",
       "  </tbody>\n",
       "</table>\n",
       "</div>"
      ],
      "text/plain": [
       "              Year  Selling_Price  Present_Price     Kms_Driven       Owner\n",
       "count   301.000000     301.000000     301.000000     301.000000  301.000000\n",
       "mean   2013.627907       4.661296       7.628472   36947.205980    0.043189\n",
       "std       2.891554       5.082812       8.644115   38886.883882    0.247915\n",
       "min    2003.000000       0.100000       0.320000     500.000000    0.000000\n",
       "25%    2012.000000       0.900000       1.200000   15000.000000    0.000000\n",
       "50%    2014.000000       3.600000       6.400000   32000.000000    0.000000\n",
       "75%    2016.000000       6.000000       9.900000   48767.000000    0.000000\n",
       "max    2018.000000      35.000000      92.600000  500000.000000    3.000000"
      ]
     },
     "execution_count": 33,
     "metadata": {},
     "output_type": "execute_result"
    }
   ],
   "source": [
    "df.describe()"
   ]
  },
  {
   "cell_type": "markdown",
   "id": "ed0ee574",
   "metadata": {},
   "source": [
    "*Compute a new feature called the Car_age_years used to find number of years for car useage from current year 2022* "
   ]
  },
  {
   "cell_type": "code",
   "execution_count": 35,
   "id": "2a2fdfa3",
   "metadata": {},
   "outputs": [
    {
     "data": {
      "text/plain": [
       "Index(['Car_Name', 'Year', 'Selling_Price', 'Present_Price', 'Kms_Driven',\n",
       "       'Fuel_Type', 'Seller_Type', 'Transmission', 'Owner'],\n",
       "      dtype='object')"
      ]
     },
     "execution_count": 35,
     "metadata": {},
     "output_type": "execute_result"
    }
   ],
   "source": [
    "df.columns"
   ]
  },
  {
   "cell_type": "code",
   "execution_count": 36,
   "id": "8df75f20",
   "metadata": {},
   "outputs": [],
   "source": [
    "#Remove Car_Name feature as it is not needed for model creation\n",
    "car_df = df.drop([\"Car_Name\"],axis=1) "
   ]
  },
  {
   "cell_type": "code",
   "execution_count": 37,
   "id": "d0eaefa0",
   "metadata": {},
   "outputs": [
    {
     "data": {
      "text/html": [
       "<div>\n",
       "<style scoped>\n",
       "    .dataframe tbody tr th:only-of-type {\n",
       "        vertical-align: middle;\n",
       "    }\n",
       "\n",
       "    .dataframe tbody tr th {\n",
       "        vertical-align: top;\n",
       "    }\n",
       "\n",
       "    .dataframe thead th {\n",
       "        text-align: right;\n",
       "    }\n",
       "</style>\n",
       "<table border=\"1\" class=\"dataframe\">\n",
       "  <thead>\n",
       "    <tr style=\"text-align: right;\">\n",
       "      <th></th>\n",
       "      <th>Year</th>\n",
       "      <th>Selling_Price</th>\n",
       "      <th>Present_Price</th>\n",
       "      <th>Kms_Driven</th>\n",
       "      <th>Fuel_Type</th>\n",
       "      <th>Seller_Type</th>\n",
       "      <th>Transmission</th>\n",
       "      <th>Owner</th>\n",
       "      <th>Car_Age_years</th>\n",
       "    </tr>\n",
       "  </thead>\n",
       "  <tbody>\n",
       "    <tr>\n",
       "      <th>0</th>\n",
       "      <td>2014</td>\n",
       "      <td>3.35</td>\n",
       "      <td>5.59</td>\n",
       "      <td>27000</td>\n",
       "      <td>Petrol</td>\n",
       "      <td>Dealer</td>\n",
       "      <td>Manual</td>\n",
       "      <td>0</td>\n",
       "      <td>8</td>\n",
       "    </tr>\n",
       "    <tr>\n",
       "      <th>1</th>\n",
       "      <td>2013</td>\n",
       "      <td>4.75</td>\n",
       "      <td>9.54</td>\n",
       "      <td>43000</td>\n",
       "      <td>Diesel</td>\n",
       "      <td>Dealer</td>\n",
       "      <td>Manual</td>\n",
       "      <td>0</td>\n",
       "      <td>9</td>\n",
       "    </tr>\n",
       "    <tr>\n",
       "      <th>2</th>\n",
       "      <td>2017</td>\n",
       "      <td>7.25</td>\n",
       "      <td>9.85</td>\n",
       "      <td>6900</td>\n",
       "      <td>Petrol</td>\n",
       "      <td>Dealer</td>\n",
       "      <td>Manual</td>\n",
       "      <td>0</td>\n",
       "      <td>5</td>\n",
       "    </tr>\n",
       "    <tr>\n",
       "      <th>3</th>\n",
       "      <td>2011</td>\n",
       "      <td>2.85</td>\n",
       "      <td>4.15</td>\n",
       "      <td>5200</td>\n",
       "      <td>Petrol</td>\n",
       "      <td>Dealer</td>\n",
       "      <td>Manual</td>\n",
       "      <td>0</td>\n",
       "      <td>11</td>\n",
       "    </tr>\n",
       "    <tr>\n",
       "      <th>4</th>\n",
       "      <td>2014</td>\n",
       "      <td>4.60</td>\n",
       "      <td>6.87</td>\n",
       "      <td>42450</td>\n",
       "      <td>Diesel</td>\n",
       "      <td>Dealer</td>\n",
       "      <td>Manual</td>\n",
       "      <td>0</td>\n",
       "      <td>8</td>\n",
       "    </tr>\n",
       "  </tbody>\n",
       "</table>\n",
       "</div>"
      ],
      "text/plain": [
       "   Year  Selling_Price  Present_Price  Kms_Driven Fuel_Type Seller_Type  \\\n",
       "0  2014           3.35           5.59       27000    Petrol      Dealer   \n",
       "1  2013           4.75           9.54       43000    Diesel      Dealer   \n",
       "2  2017           7.25           9.85        6900    Petrol      Dealer   \n",
       "3  2011           2.85           4.15        5200    Petrol      Dealer   \n",
       "4  2014           4.60           6.87       42450    Diesel      Dealer   \n",
       "\n",
       "  Transmission  Owner  Car_Age_years  \n",
       "0       Manual      0              8  \n",
       "1       Manual      0              9  \n",
       "2       Manual      0              5  \n",
       "3       Manual      0             11  \n",
       "4       Manual      0              8  "
      ]
     },
     "execution_count": 37,
     "metadata": {},
     "output_type": "execute_result"
    }
   ],
   "source": [
    "car_df[\"Car_Age_years\"] = 2022 - car_df[\"Year\"]\n",
    "car_df.head()"
   ]
  },
  {
   "cell_type": "code",
   "execution_count": 38,
   "id": "32cdc982",
   "metadata": {},
   "outputs": [
    {
     "data": {
      "text/html": [
       "<div>\n",
       "<style scoped>\n",
       "    .dataframe tbody tr th:only-of-type {\n",
       "        vertical-align: middle;\n",
       "    }\n",
       "\n",
       "    .dataframe tbody tr th {\n",
       "        vertical-align: top;\n",
       "    }\n",
       "\n",
       "    .dataframe thead th {\n",
       "        text-align: right;\n",
       "    }\n",
       "</style>\n",
       "<table border=\"1\" class=\"dataframe\">\n",
       "  <thead>\n",
       "    <tr style=\"text-align: right;\">\n",
       "      <th></th>\n",
       "      <th>Selling_Price</th>\n",
       "      <th>Present_Price</th>\n",
       "      <th>Kms_Driven</th>\n",
       "      <th>Fuel_Type</th>\n",
       "      <th>Seller_Type</th>\n",
       "      <th>Transmission</th>\n",
       "      <th>Owner</th>\n",
       "      <th>Car_Age_years</th>\n",
       "    </tr>\n",
       "  </thead>\n",
       "  <tbody>\n",
       "    <tr>\n",
       "      <th>0</th>\n",
       "      <td>3.35</td>\n",
       "      <td>5.59</td>\n",
       "      <td>27000</td>\n",
       "      <td>Petrol</td>\n",
       "      <td>Dealer</td>\n",
       "      <td>Manual</td>\n",
       "      <td>0</td>\n",
       "      <td>8</td>\n",
       "    </tr>\n",
       "    <tr>\n",
       "      <th>1</th>\n",
       "      <td>4.75</td>\n",
       "      <td>9.54</td>\n",
       "      <td>43000</td>\n",
       "      <td>Diesel</td>\n",
       "      <td>Dealer</td>\n",
       "      <td>Manual</td>\n",
       "      <td>0</td>\n",
       "      <td>9</td>\n",
       "    </tr>\n",
       "    <tr>\n",
       "      <th>2</th>\n",
       "      <td>7.25</td>\n",
       "      <td>9.85</td>\n",
       "      <td>6900</td>\n",
       "      <td>Petrol</td>\n",
       "      <td>Dealer</td>\n",
       "      <td>Manual</td>\n",
       "      <td>0</td>\n",
       "      <td>5</td>\n",
       "    </tr>\n",
       "    <tr>\n",
       "      <th>3</th>\n",
       "      <td>2.85</td>\n",
       "      <td>4.15</td>\n",
       "      <td>5200</td>\n",
       "      <td>Petrol</td>\n",
       "      <td>Dealer</td>\n",
       "      <td>Manual</td>\n",
       "      <td>0</td>\n",
       "      <td>11</td>\n",
       "    </tr>\n",
       "    <tr>\n",
       "      <th>4</th>\n",
       "      <td>4.60</td>\n",
       "      <td>6.87</td>\n",
       "      <td>42450</td>\n",
       "      <td>Diesel</td>\n",
       "      <td>Dealer</td>\n",
       "      <td>Manual</td>\n",
       "      <td>0</td>\n",
       "      <td>8</td>\n",
       "    </tr>\n",
       "  </tbody>\n",
       "</table>\n",
       "</div>"
      ],
      "text/plain": [
       "   Selling_Price  Present_Price  Kms_Driven Fuel_Type Seller_Type  \\\n",
       "0           3.35           5.59       27000    Petrol      Dealer   \n",
       "1           4.75           9.54       43000    Diesel      Dealer   \n",
       "2           7.25           9.85        6900    Petrol      Dealer   \n",
       "3           2.85           4.15        5200    Petrol      Dealer   \n",
       "4           4.60           6.87       42450    Diesel      Dealer   \n",
       "\n",
       "  Transmission  Owner  Car_Age_years  \n",
       "0       Manual      0              8  \n",
       "1       Manual      0              9  \n",
       "2       Manual      0              5  \n",
       "3       Manual      0             11  \n",
       "4       Manual      0              8  "
      ]
     },
     "execution_count": 38,
     "metadata": {},
     "output_type": "execute_result"
    }
   ],
   "source": [
    "#Remove the year column as we have got Car-Age_years\n",
    "car_df.drop([\"Year\"],axis=1,inplace=True)\n",
    "car_df.head()"
   ]
  },
  {
   "cell_type": "markdown",
   "id": "55491a23",
   "metadata": {},
   "source": [
    "**Do one hot encoding to convert the categorical features to numerical features and drop the first category type as it can be expressed as combination of remaining features** \n",
    "*Dummy variable trap*"
   ]
  },
  {
   "cell_type": "code",
   "execution_count": 40,
   "id": "17a1191c",
   "metadata": {},
   "outputs": [
    {
     "data": {
      "text/html": [
       "<div>\n",
       "<style scoped>\n",
       "    .dataframe tbody tr th:only-of-type {\n",
       "        vertical-align: middle;\n",
       "    }\n",
       "\n",
       "    .dataframe tbody tr th {\n",
       "        vertical-align: top;\n",
       "    }\n",
       "\n",
       "    .dataframe thead th {\n",
       "        text-align: right;\n",
       "    }\n",
       "</style>\n",
       "<table border=\"1\" class=\"dataframe\">\n",
       "  <thead>\n",
       "    <tr style=\"text-align: right;\">\n",
       "      <th></th>\n",
       "      <th>Selling_Price</th>\n",
       "      <th>Present_Price</th>\n",
       "      <th>Kms_Driven</th>\n",
       "      <th>Owner</th>\n",
       "      <th>Car_Age_years</th>\n",
       "      <th>Fuel_Type_Diesel</th>\n",
       "      <th>Fuel_Type_Petrol</th>\n",
       "      <th>Seller_Type_Individual</th>\n",
       "      <th>Transmission_Manual</th>\n",
       "    </tr>\n",
       "  </thead>\n",
       "  <tbody>\n",
       "    <tr>\n",
       "      <th>0</th>\n",
       "      <td>3.35</td>\n",
       "      <td>5.59</td>\n",
       "      <td>27000</td>\n",
       "      <td>0</td>\n",
       "      <td>8</td>\n",
       "      <td>0</td>\n",
       "      <td>1</td>\n",
       "      <td>0</td>\n",
       "      <td>1</td>\n",
       "    </tr>\n",
       "    <tr>\n",
       "      <th>1</th>\n",
       "      <td>4.75</td>\n",
       "      <td>9.54</td>\n",
       "      <td>43000</td>\n",
       "      <td>0</td>\n",
       "      <td>9</td>\n",
       "      <td>1</td>\n",
       "      <td>0</td>\n",
       "      <td>0</td>\n",
       "      <td>1</td>\n",
       "    </tr>\n",
       "    <tr>\n",
       "      <th>2</th>\n",
       "      <td>7.25</td>\n",
       "      <td>9.85</td>\n",
       "      <td>6900</td>\n",
       "      <td>0</td>\n",
       "      <td>5</td>\n",
       "      <td>0</td>\n",
       "      <td>1</td>\n",
       "      <td>0</td>\n",
       "      <td>1</td>\n",
       "    </tr>\n",
       "    <tr>\n",
       "      <th>3</th>\n",
       "      <td>2.85</td>\n",
       "      <td>4.15</td>\n",
       "      <td>5200</td>\n",
       "      <td>0</td>\n",
       "      <td>11</td>\n",
       "      <td>0</td>\n",
       "      <td>1</td>\n",
       "      <td>0</td>\n",
       "      <td>1</td>\n",
       "    </tr>\n",
       "    <tr>\n",
       "      <th>4</th>\n",
       "      <td>4.60</td>\n",
       "      <td>6.87</td>\n",
       "      <td>42450</td>\n",
       "      <td>0</td>\n",
       "      <td>8</td>\n",
       "      <td>1</td>\n",
       "      <td>0</td>\n",
       "      <td>0</td>\n",
       "      <td>1</td>\n",
       "    </tr>\n",
       "  </tbody>\n",
       "</table>\n",
       "</div>"
      ],
      "text/plain": [
       "   Selling_Price  Present_Price  Kms_Driven  Owner  Car_Age_years  \\\n",
       "0           3.35           5.59       27000      0              8   \n",
       "1           4.75           9.54       43000      0              9   \n",
       "2           7.25           9.85        6900      0              5   \n",
       "3           2.85           4.15        5200      0             11   \n",
       "4           4.60           6.87       42450      0              8   \n",
       "\n",
       "   Fuel_Type_Diesel  Fuel_Type_Petrol  Seller_Type_Individual  \\\n",
       "0                 0                 1                       0   \n",
       "1                 1                 0                       0   \n",
       "2                 0                 1                       0   \n",
       "3                 0                 1                       0   \n",
       "4                 1                 0                       0   \n",
       "\n",
       "   Transmission_Manual  \n",
       "0                    1  \n",
       "1                    1  \n",
       "2                    1  \n",
       "3                    1  \n",
       "4                    1  "
      ]
     },
     "execution_count": 40,
     "metadata": {},
     "output_type": "execute_result"
    }
   ],
   "source": [
    "car_df = pd.get_dummies(car_df,drop_first=True)\n",
    "car_df.head()"
   ]
  },
  {
   "cell_type": "code",
   "execution_count": 43,
   "id": "cdec3812",
   "metadata": {},
   "outputs": [
    {
     "data": {
      "text/plain": [
       "Index(['Car_Name', 'Year', 'Selling_Price', 'Present_Price', 'Kms_Driven',\n",
       "       'Fuel_Type', 'Seller_Type', 'Transmission', 'Owner'],\n",
       "      dtype='object')"
      ]
     },
     "execution_count": 43,
     "metadata": {},
     "output_type": "execute_result"
    }
   ],
   "source": [
    "df[\"Fuel_Type\"].unique()\n",
    "df.columns"
   ]
  },
  {
   "cell_type": "code",
   "execution_count": 42,
   "id": "be2d0085",
   "metadata": {},
   "outputs": [
    {
     "data": {
      "text/plain": [
       "Index(['Selling_Price', 'Present_Price', 'Kms_Driven', 'Owner',\n",
       "       'Car_Age_years', 'Fuel_Type_Diesel', 'Fuel_Type_Petrol',\n",
       "       'Seller_Type_Individual', 'Transmission_Manual'],\n",
       "      dtype='object')"
      ]
     },
     "execution_count": 42,
     "metadata": {},
     "output_type": "execute_result"
    }
   ],
   "source": [
    "car_df.columns"
   ]
  },
  {
   "cell_type": "markdown",
   "id": "6824b11a",
   "metadata": {},
   "source": [
    "*Find the correlation between num features and use heat map to visualize it*"
   ]
  },
  {
   "cell_type": "code",
   "execution_count": 44,
   "id": "5d55aa15",
   "metadata": {},
   "outputs": [
    {
     "data": {
      "text/html": [
       "<div>\n",
       "<style scoped>\n",
       "    .dataframe tbody tr th:only-of-type {\n",
       "        vertical-align: middle;\n",
       "    }\n",
       "\n",
       "    .dataframe tbody tr th {\n",
       "        vertical-align: top;\n",
       "    }\n",
       "\n",
       "    .dataframe thead th {\n",
       "        text-align: right;\n",
       "    }\n",
       "</style>\n",
       "<table border=\"1\" class=\"dataframe\">\n",
       "  <thead>\n",
       "    <tr style=\"text-align: right;\">\n",
       "      <th></th>\n",
       "      <th>Selling_Price</th>\n",
       "      <th>Present_Price</th>\n",
       "      <th>Kms_Driven</th>\n",
       "      <th>Owner</th>\n",
       "      <th>Car_Age_years</th>\n",
       "      <th>Fuel_Type_Diesel</th>\n",
       "      <th>Fuel_Type_Petrol</th>\n",
       "      <th>Seller_Type_Individual</th>\n",
       "      <th>Transmission_Manual</th>\n",
       "    </tr>\n",
       "  </thead>\n",
       "  <tbody>\n",
       "    <tr>\n",
       "      <th>Selling_Price</th>\n",
       "      <td>1.000000</td>\n",
       "      <td>0.878983</td>\n",
       "      <td>0.029187</td>\n",
       "      <td>-0.088344</td>\n",
       "      <td>-0.236141</td>\n",
       "      <td>0.552339</td>\n",
       "      <td>-0.540571</td>\n",
       "      <td>-0.550724</td>\n",
       "      <td>-0.367128</td>\n",
       "    </tr>\n",
       "    <tr>\n",
       "      <th>Present_Price</th>\n",
       "      <td>0.878983</td>\n",
       "      <td>1.000000</td>\n",
       "      <td>0.203647</td>\n",
       "      <td>0.008057</td>\n",
       "      <td>0.047584</td>\n",
       "      <td>0.473306</td>\n",
       "      <td>-0.465244</td>\n",
       "      <td>-0.512030</td>\n",
       "      <td>-0.348715</td>\n",
       "    </tr>\n",
       "    <tr>\n",
       "      <th>Kms_Driven</th>\n",
       "      <td>0.029187</td>\n",
       "      <td>0.203647</td>\n",
       "      <td>1.000000</td>\n",
       "      <td>0.089216</td>\n",
       "      <td>0.524342</td>\n",
       "      <td>0.172515</td>\n",
       "      <td>-0.172874</td>\n",
       "      <td>-0.101419</td>\n",
       "      <td>-0.162510</td>\n",
       "    </tr>\n",
       "    <tr>\n",
       "      <th>Owner</th>\n",
       "      <td>-0.088344</td>\n",
       "      <td>0.008057</td>\n",
       "      <td>0.089216</td>\n",
       "      <td>1.000000</td>\n",
       "      <td>0.182104</td>\n",
       "      <td>-0.053469</td>\n",
       "      <td>0.055687</td>\n",
       "      <td>0.124269</td>\n",
       "      <td>-0.050316</td>\n",
       "    </tr>\n",
       "    <tr>\n",
       "      <th>Car_Age_years</th>\n",
       "      <td>-0.236141</td>\n",
       "      <td>0.047584</td>\n",
       "      <td>0.524342</td>\n",
       "      <td>0.182104</td>\n",
       "      <td>1.000000</td>\n",
       "      <td>-0.064315</td>\n",
       "      <td>0.059959</td>\n",
       "      <td>0.039896</td>\n",
       "      <td>-0.000394</td>\n",
       "    </tr>\n",
       "    <tr>\n",
       "      <th>Fuel_Type_Diesel</th>\n",
       "      <td>0.552339</td>\n",
       "      <td>0.473306</td>\n",
       "      <td>0.172515</td>\n",
       "      <td>-0.053469</td>\n",
       "      <td>-0.064315</td>\n",
       "      <td>1.000000</td>\n",
       "      <td>-0.979648</td>\n",
       "      <td>-0.350467</td>\n",
       "      <td>-0.098643</td>\n",
       "    </tr>\n",
       "    <tr>\n",
       "      <th>Fuel_Type_Petrol</th>\n",
       "      <td>-0.540571</td>\n",
       "      <td>-0.465244</td>\n",
       "      <td>-0.172874</td>\n",
       "      <td>0.055687</td>\n",
       "      <td>0.059959</td>\n",
       "      <td>-0.979648</td>\n",
       "      <td>1.000000</td>\n",
       "      <td>0.358321</td>\n",
       "      <td>0.091013</td>\n",
       "    </tr>\n",
       "    <tr>\n",
       "      <th>Seller_Type_Individual</th>\n",
       "      <td>-0.550724</td>\n",
       "      <td>-0.512030</td>\n",
       "      <td>-0.101419</td>\n",
       "      <td>0.124269</td>\n",
       "      <td>0.039896</td>\n",
       "      <td>-0.350467</td>\n",
       "      <td>0.358321</td>\n",
       "      <td>1.000000</td>\n",
       "      <td>0.063240</td>\n",
       "    </tr>\n",
       "    <tr>\n",
       "      <th>Transmission_Manual</th>\n",
       "      <td>-0.367128</td>\n",
       "      <td>-0.348715</td>\n",
       "      <td>-0.162510</td>\n",
       "      <td>-0.050316</td>\n",
       "      <td>-0.000394</td>\n",
       "      <td>-0.098643</td>\n",
       "      <td>0.091013</td>\n",
       "      <td>0.063240</td>\n",
       "      <td>1.000000</td>\n",
       "    </tr>\n",
       "  </tbody>\n",
       "</table>\n",
       "</div>"
      ],
      "text/plain": [
       "                        Selling_Price  Present_Price  Kms_Driven     Owner  \\\n",
       "Selling_Price                1.000000       0.878983    0.029187 -0.088344   \n",
       "Present_Price                0.878983       1.000000    0.203647  0.008057   \n",
       "Kms_Driven                   0.029187       0.203647    1.000000  0.089216   \n",
       "Owner                       -0.088344       0.008057    0.089216  1.000000   \n",
       "Car_Age_years               -0.236141       0.047584    0.524342  0.182104   \n",
       "Fuel_Type_Diesel             0.552339       0.473306    0.172515 -0.053469   \n",
       "Fuel_Type_Petrol            -0.540571      -0.465244   -0.172874  0.055687   \n",
       "Seller_Type_Individual      -0.550724      -0.512030   -0.101419  0.124269   \n",
       "Transmission_Manual         -0.367128      -0.348715   -0.162510 -0.050316   \n",
       "\n",
       "                        Car_Age_years  Fuel_Type_Diesel  Fuel_Type_Petrol  \\\n",
       "Selling_Price               -0.236141          0.552339         -0.540571   \n",
       "Present_Price                0.047584          0.473306         -0.465244   \n",
       "Kms_Driven                   0.524342          0.172515         -0.172874   \n",
       "Owner                        0.182104         -0.053469          0.055687   \n",
       "Car_Age_years                1.000000         -0.064315          0.059959   \n",
       "Fuel_Type_Diesel            -0.064315          1.000000         -0.979648   \n",
       "Fuel_Type_Petrol             0.059959         -0.979648          1.000000   \n",
       "Seller_Type_Individual       0.039896         -0.350467          0.358321   \n",
       "Transmission_Manual         -0.000394         -0.098643          0.091013   \n",
       "\n",
       "                        Seller_Type_Individual  Transmission_Manual  \n",
       "Selling_Price                        -0.550724            -0.367128  \n",
       "Present_Price                        -0.512030            -0.348715  \n",
       "Kms_Driven                           -0.101419            -0.162510  \n",
       "Owner                                 0.124269            -0.050316  \n",
       "Car_Age_years                         0.039896            -0.000394  \n",
       "Fuel_Type_Diesel                     -0.350467            -0.098643  \n",
       "Fuel_Type_Petrol                      0.358321             0.091013  \n",
       "Seller_Type_Individual                1.000000             0.063240  \n",
       "Transmission_Manual                   0.063240             1.000000  "
      ]
     },
     "execution_count": 44,
     "metadata": {},
     "output_type": "execute_result"
    }
   ],
   "source": [
    "car_df.corr()"
   ]
  },
  {
   "cell_type": "code",
   "execution_count": 45,
   "id": "d87d247a",
   "metadata": {},
   "outputs": [
    {
     "name": "stdout",
     "output_type": "stream",
     "text": [
      "Requirement already satisfied: seaborn in c:\\users\\nagarajan-pc\\anaconda3\\envs\\cardekhoenv\\lib\\site-packages (0.11.2)\n",
      "Requirement already satisfied: matplotlib>=2.2 in c:\\users\\nagarajan-pc\\anaconda3\\envs\\cardekhoenv\\lib\\site-packages (from seaborn) (3.5.2)\n",
      "Requirement already satisfied: scipy>=1.0 in c:\\users\\nagarajan-pc\\anaconda3\\envs\\cardekhoenv\\lib\\site-packages (from seaborn) (1.8.1)\n",
      "Requirement already satisfied: numpy>=1.15 in c:\\users\\nagarajan-pc\\anaconda3\\envs\\cardekhoenv\\lib\\site-packages (from seaborn) (1.22.4)\n",
      "Requirement already satisfied: pandas>=0.23 in c:\\users\\nagarajan-pc\\anaconda3\\envs\\cardekhoenv\\lib\\site-packages (from seaborn) (1.4.2)\n",
      "Requirement already satisfied: kiwisolver>=1.0.1 in c:\\users\\nagarajan-pc\\anaconda3\\envs\\cardekhoenv\\lib\\site-packages (from matplotlib>=2.2->seaborn) (1.4.2)\n",
      "Requirement already satisfied: packaging>=20.0 in c:\\users\\nagarajan-pc\\anaconda3\\envs\\cardekhoenv\\lib\\site-packages (from matplotlib>=2.2->seaborn) (21.3)\n",
      "Requirement already satisfied: cycler>=0.10 in c:\\users\\nagarajan-pc\\anaconda3\\envs\\cardekhoenv\\lib\\site-packages (from matplotlib>=2.2->seaborn) (0.11.0)\n",
      "Requirement already satisfied: pyparsing>=2.2.1 in c:\\users\\nagarajan-pc\\anaconda3\\envs\\cardekhoenv\\lib\\site-packages (from matplotlib>=2.2->seaborn) (3.0.9)\n",
      "Requirement already satisfied: pillow>=6.2.0 in c:\\users\\nagarajan-pc\\anaconda3\\envs\\cardekhoenv\\lib\\site-packages (from matplotlib>=2.2->seaborn) (9.1.1)\n",
      "Requirement already satisfied: python-dateutil>=2.7 in c:\\users\\nagarajan-pc\\anaconda3\\envs\\cardekhoenv\\lib\\site-packages (from matplotlib>=2.2->seaborn) (2.8.2)\n",
      "Requirement already satisfied: fonttools>=4.22.0 in c:\\users\\nagarajan-pc\\anaconda3\\envs\\cardekhoenv\\lib\\site-packages (from matplotlib>=2.2->seaborn) (4.33.3)\n",
      "Requirement already satisfied: pytz>=2020.1 in c:\\users\\nagarajan-pc\\anaconda3\\envs\\cardekhoenv\\lib\\site-packages (from pandas>=0.23->seaborn) (2022.1)\n",
      "Requirement already satisfied: six>=1.5 in c:\\users\\nagarajan-pc\\anaconda3\\envs\\cardekhoenv\\lib\\site-packages (from python-dateutil>=2.7->matplotlib>=2.2->seaborn) (1.16.0)\n"
     ]
    }
   ],
   "source": [
    "!pip install seaborn"
   ]
  },
  {
   "cell_type": "code",
   "execution_count": 46,
   "id": "36fe06c5",
   "metadata": {},
   "outputs": [],
   "source": [
    "import seaborn as sns"
   ]
  },
  {
   "cell_type": "code",
   "execution_count": 49,
   "id": "1f6c7349",
   "metadata": {},
   "outputs": [],
   "source": [
    "import matplotlib.pyplot as plt\n",
    "%matplotlib inline"
   ]
  },
  {
   "cell_type": "code",
   "execution_count": 54,
   "id": "48d4566b",
   "metadata": {},
   "outputs": [
    {
     "data": {
      "text/plain": [
       "<AxesSubplot:>"
      ]
     },
     "execution_count": 54,
     "metadata": {},
     "output_type": "execute_result"
    },
    {
     "data": {
      "image/png": "[encoded data removed]",
      "text/plain": [
       "<Figure size 720x720 with 2 Axes>"
      ]
     },
     "metadata": {
      "needs_background": "light"
     },
     "output_type": "display_data"
    }
   ],
   "source": [
    "plt.figure(figsize=(10,10))\n",
    "sns.heatmap(car_df.corr(),vmax=1,vmin=-1,cmap=\"viridis\",annot=True)"
   ]
  },
  {
   "cell_type": "code",
   "execution_count": 59,
   "id": "045b62bf",
   "metadata": {},
   "outputs": [
    {
     "data": {
      "text/plain": [
       "<AxesSubplot:>"
      ]
     },
     "execution_count": 59,
     "metadata": {},
     "output_type": "execute_result"
    },
    {
     "data": {
      "image/png": "[encoded data removed]",
      "text/plain": [
       "<Figure size 792x792 with 2 Axes>"
      ]
     },
     "metadata": {
      "needs_background": "light"
     },
     "output_type": "display_data"
    }
   ],
   "source": [
    "corrmat = car_df.corr()\n",
    "top_corr_featues = corrmat.index\n",
    "plt.figure(figsize=(11,11))\n",
    "sns.heatmap(car_df[top_corr_featues].corr(),cmap=\"magma\",annot=True)"
   ]
  },
  {
   "cell_type": "markdown",
   "id": "25240c45",
   "metadata": {},
   "source": [
    "*Splitting into dependent and independent features from dataset*"
   ]
  },
  {
   "cell_type": "code",
   "execution_count": 60,
   "id": "69f73d76",
   "metadata": {},
   "outputs": [
    {
     "data": {
      "text/plain": [
       "Index(['Selling_Price', 'Present_Price', 'Kms_Driven', 'Owner',\n",
       "       'Car_Age_years', 'Fuel_Type_Diesel', 'Fuel_Type_Petrol',\n",
       "       'Seller_Type_Individual', 'Transmission_Manual'],\n",
       "      dtype='object')"
      ]
     },
     "execution_count": 60,
     "metadata": {},
     "output_type": "execute_result"
    }
   ],
   "source": [
    "car_df.columns"
   ]
  },
  {
   "cell_type": "code",
   "execution_count": 106,
   "id": "0398db9c",
   "metadata": {},
   "outputs": [],
   "source": [
    "ind_columns = list(car_df.columns)[1:]\n",
    "dep_columns = list(car_df.columns)[0]\n",
    "X = car_df.iloc[:,1:]\n",
    "y = car_df.iloc[:,0]"
   ]
  },
  {
   "cell_type": "code",
   "execution_count": 103,
   "id": "9b10b66c",
   "metadata": {},
   "outputs": [
    {
     "data": {
      "text/plain": [
       "'Selling_Price'"
      ]
     },
     "execution_count": 103,
     "metadata": {},
     "output_type": "execute_result"
    }
   ],
   "source": [
    "dep_columns"
   ]
  },
  {
   "cell_type": "code",
   "execution_count": 104,
   "id": "d96e0c3a",
   "metadata": {},
   "outputs": [
    {
     "data": {
      "text/plain": [
       "['Present_Price',\n",
       " 'Kms_Driven',\n",
       " 'Owner',\n",
       " 'Car_Age_years',\n",
       " 'Fuel_Type_Diesel',\n",
       " 'Fuel_Type_Petrol',\n",
       " 'Seller_Type_Individual',\n",
       " 'Transmission_Manual']"
      ]
     },
     "execution_count": 104,
     "metadata": {},
     "output_type": "execute_result"
    }
   ],
   "source": [
    "ind_columns"
   ]
  },
  {
   "cell_type": "code",
   "execution_count": 98,
   "id": "de2be243",
   "metadata": {},
   "outputs": [
    {
     "data": {
      "text/html": [
       "<div>\n",
       "<style scoped>\n",
       "    .dataframe tbody tr th:only-of-type {\n",
       "        vertical-align: middle;\n",
       "    }\n",
       "\n",
       "    .dataframe tbody tr th {\n",
       "        vertical-align: top;\n",
       "    }\n",
       "\n",
       "    .dataframe thead th {\n",
       "        text-align: right;\n",
       "    }\n",
       "</style>\n",
       "<table border=\"1\" class=\"dataframe\">\n",
       "  <thead>\n",
       "    <tr style=\"text-align: right;\">\n",
       "      <th></th>\n",
       "      <th>Present_Price</th>\n",
       "      <th>Kms_Driven</th>\n",
       "      <th>Owner</th>\n",
       "      <th>Car_Age_years</th>\n",
       "      <th>Fuel_Type_Diesel</th>\n",
       "      <th>Fuel_Type_Petrol</th>\n",
       "      <th>Seller_Type_Individual</th>\n",
       "      <th>Transmission_Manual</th>\n",
       "    </tr>\n",
       "  </thead>\n",
       "  <tbody>\n",
       "    <tr>\n",
       "      <th>0</th>\n",
       "      <td>5.59</td>\n",
       "      <td>27000</td>\n",
       "      <td>0</td>\n",
       "      <td>8</td>\n",
       "      <td>0</td>\n",
       "      <td>1</td>\n",
       "      <td>0</td>\n",
       "      <td>1</td>\n",
       "    </tr>\n",
       "    <tr>\n",
       "      <th>1</th>\n",
       "      <td>9.54</td>\n",
       "      <td>43000</td>\n",
       "      <td>0</td>\n",
       "      <td>9</td>\n",
       "      <td>1</td>\n",
       "      <td>0</td>\n",
       "      <td>0</td>\n",
       "      <td>1</td>\n",
       "    </tr>\n",
       "    <tr>\n",
       "      <th>2</th>\n",
       "      <td>9.85</td>\n",
       "      <td>6900</td>\n",
       "      <td>0</td>\n",
       "      <td>5</td>\n",
       "      <td>0</td>\n",
       "      <td>1</td>\n",
       "      <td>0</td>\n",
       "      <td>1</td>\n",
       "    </tr>\n",
       "    <tr>\n",
       "      <th>3</th>\n",
       "      <td>4.15</td>\n",
       "      <td>5200</td>\n",
       "      <td>0</td>\n",
       "      <td>11</td>\n",
       "      <td>0</td>\n",
       "      <td>1</td>\n",
       "      <td>0</td>\n",
       "      <td>1</td>\n",
       "    </tr>\n",
       "    <tr>\n",
       "      <th>4</th>\n",
       "      <td>6.87</td>\n",
       "      <td>42450</td>\n",
       "      <td>0</td>\n",
       "      <td>8</td>\n",
       "      <td>1</td>\n",
       "      <td>0</td>\n",
       "      <td>0</td>\n",
       "      <td>1</td>\n",
       "    </tr>\n",
       "  </tbody>\n",
       "</table>\n",
       "</div>"
      ],
      "text/plain": [
       "   Present_Price  Kms_Driven  Owner  Car_Age_years  Fuel_Type_Diesel  \\\n",
       "0           5.59       27000      0              8                 0   \n",
       "1           9.54       43000      0              9                 1   \n",
       "2           9.85        6900      0              5                 0   \n",
       "3           4.15        5200      0             11                 0   \n",
       "4           6.87       42450      0              8                 1   \n",
       "\n",
       "   Fuel_Type_Petrol  Seller_Type_Individual  Transmission_Manual  \n",
       "0                 1                       0                    1  \n",
       "1                 0                       0                    1  \n",
       "2                 1                       0                    1  \n",
       "3                 1                       0                    1  \n",
       "4                 0                       0                    1  "
      ]
     },
     "execution_count": 98,
     "metadata": {},
     "output_type": "execute_result"
    }
   ],
   "source": [
    "X.head()"
   ]
  },
  {
   "cell_type": "code",
   "execution_count": 99,
   "id": "aea01904",
   "metadata": {},
   "outputs": [
    {
     "data": {
      "text/html": [
       "<div>\n",
       "<style scoped>\n",
       "    .dataframe tbody tr th:only-of-type {\n",
       "        vertical-align: middle;\n",
       "    }\n",
       "\n",
       "    .dataframe tbody tr th {\n",
       "        vertical-align: top;\n",
       "    }\n",
       "\n",
       "    .dataframe thead th {\n",
       "        text-align: right;\n",
       "    }\n",
       "</style>\n",
       "<table border=\"1\" class=\"dataframe\">\n",
       "  <thead>\n",
       "    <tr style=\"text-align: right;\">\n",
       "      <th></th>\n",
       "      <th>Selling_Price</th>\n",
       "    </tr>\n",
       "  </thead>\n",
       "  <tbody>\n",
       "    <tr>\n",
       "      <th>0</th>\n",
       "      <td>3.35</td>\n",
       "    </tr>\n",
       "    <tr>\n",
       "      <th>1</th>\n",
       "      <td>4.75</td>\n",
       "    </tr>\n",
       "    <tr>\n",
       "      <th>2</th>\n",
       "      <td>7.25</td>\n",
       "    </tr>\n",
       "    <tr>\n",
       "      <th>3</th>\n",
       "      <td>2.85</td>\n",
       "    </tr>\n",
       "    <tr>\n",
       "      <th>4</th>\n",
       "      <td>4.60</td>\n",
       "    </tr>\n",
       "  </tbody>\n",
       "</table>\n",
       "</div>"
      ],
      "text/plain": [
       "   Selling_Price\n",
       "0           3.35\n",
       "1           4.75\n",
       "2           7.25\n",
       "3           2.85\n",
       "4           4.60"
      ]
     },
     "execution_count": 99,
     "metadata": {},
     "output_type": "execute_result"
    }
   ],
   "source": [
    "y.head()"
   ]
  },
  {
   "cell_type": "markdown",
   "id": "5839ed8d",
   "metadata": {},
   "source": [
    "**Obtain feature importance using ExtraTreeRegressor**"
   ]
  },
  {
   "cell_type": "code",
   "execution_count": 64,
   "id": "14ca9722",
   "metadata": {},
   "outputs": [],
   "source": [
    "from sklearn.ensemble import ExtraTreesRegressor\n",
    "extre_model = ExtraTreesRegressor()"
   ]
  },
  {
   "cell_type": "code",
   "execution_count": 107,
   "id": "776644c6",
   "metadata": {},
   "outputs": [
    {
     "data": {
      "text/plain": [
       "ExtraTreesRegressor(bootstrap=False, criterion='mse', max_depth=None,\n",
       "          max_features='auto', max_leaf_nodes=None,\n",
       "          min_impurity_decrease=0.0, min_impurity_split=None,\n",
       "          min_samples_leaf=1, min_samples_split=2,\n",
       "          min_weight_fraction_leaf=0.0, n_estimators=10, n_jobs=1,\n",
       "          oob_score=False, random_state=None, verbose=0, warm_start=False)"
      ]
     },
     "execution_count": 107,
     "metadata": {},
     "output_type": "execute_result"
    }
   ],
   "source": [
    "extre_model.fit(X,y)"
   ]
  },
  {
   "cell_type": "code",
   "execution_count": 108,
   "id": "39b9df7c",
   "metadata": {},
   "outputs": [],
   "source": [
    "feature_imp = list(extre_model.feature_importances_)"
   ]
  },
  {
   "cell_type": "code",
   "execution_count": 109,
   "id": "424a3f3a",
   "metadata": {},
   "outputs": [],
   "source": [
    "imp_dict = {k:v for (k,v) in zip(ind_columns,feature_imp)}"
   ]
  },
  {
   "cell_type": "code",
   "execution_count": 110,
   "id": "9fc94be4",
   "metadata": {},
   "outputs": [
    {
     "data": {
      "text/plain": [
       "{'Present_Price': 0.4980995746498872,\n",
       " 'Kms_Driven': 0.03892156039099644,\n",
       " 'Owner': 0.0004243865511115221,\n",
       " 'Car_Age_years': 0.09076802097163404,\n",
       " 'Fuel_Type_Diesel': 0.1624428024617669,\n",
       " 'Fuel_Type_Petrol': 0.0071854489730265635,\n",
       " 'Seller_Type_Individual': 0.12482198919858956,\n",
       " 'Transmission_Manual': 0.07733621680298772}"
      ]
     },
     "execution_count": 110,
     "metadata": {},
     "output_type": "execute_result"
    }
   ],
   "source": [
    "imp_dict"
   ]
  },
  {
   "cell_type": "code",
   "execution_count": 111,
   "id": "2da54fe7",
   "metadata": {},
   "outputs": [
    {
     "data": {
      "text/plain": [
       "<AxesSubplot:>"
      ]
     },
     "execution_count": 111,
     "metadata": {},
     "output_type": "execute_result"
    },
    {
     "data": {
      "image/png": "[encoded data removed]",
      "text/plain": [
       "<Figure size 576x576 with 1 Axes>"
      ]
     },
     "metadata": {
      "needs_background": "light"
     },
     "output_type": "display_data"
    }
   ],
   "source": [
    "plt.figure(figsize=(8,8))\n",
    "sns.barplot(ind_columns,feature_imp) "
   ]
  },
  {
   "cell_type": "code",
   "execution_count": 112,
   "id": "0d6d24fd",
   "metadata": {},
   "outputs": [
    {
     "data": {
      "text/plain": [
       "<AxesSubplot:>"
      ]
     },
     "execution_count": 112,
     "metadata": {},
     "output_type": "execute_result"
    },
    {
     "data": {
      "image/png": "[encoded data removed]",
      "text/plain": [
       "<Figure size 648x648 with 1 Axes>"
      ]
     },
     "metadata": {
      "needs_background": "light"
     },
     "output_type": "display_data"
    }
   ],
   "source": [
    "# Plotting the top 6 features for feature selection based on feature importance using ExtratreeRegressor\n",
    "plt.figure(figsize=(9,9))\n",
    "f_imp_series = pd.Series(feature_imp,index=ind_columns)\n",
    "f_imp_series.nlargest(6).plot(kind=\"bar\")\n"
   ]
  },
  {
   "cell_type": "markdown",
   "id": "e26cc26f",
   "metadata": {},
   "source": [
    "**Train and test split**"
   ]
  },
  {
   "cell_type": "code",
   "execution_count": 117,
   "id": "e2e4d2e8",
   "metadata": {},
   "outputs": [
    {
     "name": "stdout",
     "output_type": "stream",
     "text": [
      "(210, 8) (210,)\n"
     ]
    }
   ],
   "source": [
    "from sklearn.model_selection import train_test_split\n",
    "X_train,X_test,y_train,y_test = train_test_split(X,y,test_size=0.3,random_state=0)\n",
    "print(X_train.shape,y_train.shape)\n"
   ]
  },
  {
   "cell_type": "code",
   "execution_count": 118,
   "id": "924955f4",
   "metadata": {},
   "outputs": [
    {
     "data": {
      "text/html": [
       "<div>\n",
       "<style scoped>\n",
       "    .dataframe tbody tr th:only-of-type {\n",
       "        vertical-align: middle;\n",
       "    }\n",
       "\n",
       "    .dataframe tbody tr th {\n",
       "        vertical-align: top;\n",
       "    }\n",
       "\n",
       "    .dataframe thead th {\n",
       "        text-align: right;\n",
       "    }\n",
       "</style>\n",
       "<table border=\"1\" class=\"dataframe\">\n",
       "  <thead>\n",
       "    <tr style=\"text-align: right;\">\n",
       "      <th></th>\n",
       "      <th>Present_Price</th>\n",
       "      <th>Kms_Driven</th>\n",
       "      <th>Owner</th>\n",
       "      <th>Car_Age_years</th>\n",
       "      <th>Fuel_Type_Diesel</th>\n",
       "      <th>Fuel_Type_Petrol</th>\n",
       "      <th>Seller_Type_Individual</th>\n",
       "      <th>Transmission_Manual</th>\n",
       "    </tr>\n",
       "  </thead>\n",
       "  <tbody>\n",
       "    <tr>\n",
       "      <th>222</th>\n",
       "      <td>7.60</td>\n",
       "      <td>77632</td>\n",
       "      <td>0</td>\n",
       "      <td>8</td>\n",
       "      <td>1</td>\n",
       "      <td>0</td>\n",
       "      <td>0</td>\n",
       "      <td>1</td>\n",
       "    </tr>\n",
       "    <tr>\n",
       "      <th>283</th>\n",
       "      <td>11.80</td>\n",
       "      <td>9010</td>\n",
       "      <td>0</td>\n",
       "      <td>6</td>\n",
       "      <td>0</td>\n",
       "      <td>1</td>\n",
       "      <td>0</td>\n",
       "      <td>1</td>\n",
       "    </tr>\n",
       "    <tr>\n",
       "      <th>44</th>\n",
       "      <td>2.69</td>\n",
       "      <td>50000</td>\n",
       "      <td>0</td>\n",
       "      <td>10</td>\n",
       "      <td>0</td>\n",
       "      <td>1</td>\n",
       "      <td>0</td>\n",
       "      <td>1</td>\n",
       "    </tr>\n",
       "    <tr>\n",
       "      <th>245</th>\n",
       "      <td>9.40</td>\n",
       "      <td>71000</td>\n",
       "      <td>0</td>\n",
       "      <td>10</td>\n",
       "      <td>1</td>\n",
       "      <td>0</td>\n",
       "      <td>0</td>\n",
       "      <td>1</td>\n",
       "    </tr>\n",
       "    <tr>\n",
       "      <th>191</th>\n",
       "      <td>0.57</td>\n",
       "      <td>25000</td>\n",
       "      <td>1</td>\n",
       "      <td>10</td>\n",
       "      <td>0</td>\n",
       "      <td>1</td>\n",
       "      <td>1</td>\n",
       "      <td>1</td>\n",
       "    </tr>\n",
       "  </tbody>\n",
       "</table>\n",
       "</div>"
      ],
      "text/plain": [
       "     Present_Price  Kms_Driven  Owner  Car_Age_years  Fuel_Type_Diesel  \\\n",
       "222           7.60       77632      0              8                 1   \n",
       "283          11.80        9010      0              6                 0   \n",
       "44            2.69       50000      0             10                 0   \n",
       "245           9.40       71000      0             10                 1   \n",
       "191           0.57       25000      1             10                 0   \n",
       "\n",
       "     Fuel_Type_Petrol  Seller_Type_Individual  Transmission_Manual  \n",
       "222                 0                       0                    1  \n",
       "283                 1                       0                    1  \n",
       "44                  1                       0                    1  \n",
       "245                 0                       0                    1  \n",
       "191                 1                       1                    1  "
      ]
     },
     "execution_count": 118,
     "metadata": {},
     "output_type": "execute_result"
    }
   ],
   "source": [
    "X_train.head()"
   ]
  },
  {
   "cell_type": "code",
   "execution_count": 120,
   "id": "7ed32b0c",
   "metadata": {},
   "outputs": [
    {
     "data": {
      "text/plain": [
       "222    6.00\n",
       "283    8.99\n",
       "44     1.25\n",
       "245    5.20\n",
       "191    0.20\n",
       "Name: Selling_Price, dtype: float64"
      ]
     },
     "execution_count": 120,
     "metadata": {},
     "output_type": "execute_result"
    }
   ],
   "source": [
    "y_train.head()"
   ]
  },
  {
   "cell_type": "markdown",
   "id": "c1abeb42",
   "metadata": {},
   "source": [
    "**Use Random Forest Reggressor as ML model**"
   ]
  },
  {
   "cell_type": "code",
   "execution_count": 78,
   "id": "ca7bbe5f",
   "metadata": {},
   "outputs": [],
   "source": [
    "from sklearn.ensemble import RandomForestRegressor\n",
    "reg_model = RandomForestRegressor()"
   ]
  },
  {
   "cell_type": "markdown",
   "id": "f486bd21",
   "metadata": {},
   "source": [
    "**Use RandomSearchCV for Hyperparameter Tuning of RF Reggressor model**"
   ]
  },
  {
   "cell_type": "code",
   "execution_count": 86,
   "id": "5f4d60b4",
   "metadata": {},
   "outputs": [],
   "source": [
    "n_estimators = [int(x) for x in np.linspace(100,1000,num=10)]\n",
    "max_features = ['auto','sqrt']\n",
    "max_depth = np.arange(5,31,step=5,dtype=np.int64).tolist()\n",
    "min_samples_split = [2,5,10,20,50]\n",
    "min_samples_leaf = [2,5,10,12,20,50]"
   ]
  },
  {
   "cell_type": "code",
   "execution_count": 88,
   "id": "651cdd05",
   "metadata": {},
   "outputs": [],
   "source": [
    "from sklearn.model_selection import RandomizedSearchCV\n",
    "\n",
    "grid_params = {\"n_estimators\": n_estimators,\n",
    "               \"max_features\": max_features,\n",
    "               \"max_depth\": max_depth,\n",
    "               \"min_samples_split\": min_samples_split,\n",
    "               \"min_samples_leaf\": min_samples_leaf\n",
    "              }\n"
   ]
  },
  {
   "cell_type": "code",
   "execution_count": 122,
   "id": "9f69dbd5",
   "metadata": {},
   "outputs": [],
   "source": [
    "rand_ser_cv = RandomizedSearchCV(reg_model,param_distributions=grid_params,n_iter=10,n_jobs=1,\n",
    "                                 scoring=\"neg_mean_squared_error\",verbose=2,cv=10)"
   ]
  },
  {
   "cell_type": "code",
   "execution_count": 123,
   "id": "8d27b22b",
   "metadata": {},
   "outputs": [
    {
     "name": "stdout",
     "output_type": "stream",
     "text": [
      "Fitting 10 folds for each of 10 candidates, totalling 100 fits\n",
      "[CV] n_estimators=800, min_samples_split=20, min_samples_leaf=20, max_features=auto, max_depth=15 \n",
      "[CV]  n_estimators=800, min_samples_split=20, min_samples_leaf=20, max_features=auto, max_depth=15, total=   0.9s\n",
      "[CV] n_estimators=800, min_samples_split=20, min_samples_leaf=20, max_features=auto, max_depth=15 \n"
     ]
    },
    {
     "name": "stderr",
     "output_type": "stream",
     "text": [
      "[Parallel(n_jobs=1)]: Done   1 out of   1 | elapsed:    0.9s remaining:    0.0s\n"
     ]
    },
    {
     "name": "stdout",
     "output_type": "stream",
     "text": [
      "[CV]  n_estimators=800, min_samples_split=20, min_samples_leaf=20, max_features=auto, max_depth=15, total=   0.9s\n",
      "[CV] n_estimators=800, min_samples_split=20, min_samples_leaf=20, max_features=auto, max_depth=15 \n",
      "[CV]  n_estimators=800, min_samples_split=20, min_samples_leaf=20, max_features=auto, max_depth=15, total=   0.9s\n",
      "[CV] n_estimators=800, min_samples_split=20, min_samples_leaf=20, max_features=auto, max_depth=15 \n",
      "[CV]  n_estimators=800, min_samples_split=20, min_samples_leaf=20, max_features=auto, max_depth=15, total=   0.9s\n",
      "[CV] n_estimators=800, min_samples_split=20, min_samples_leaf=20, max_features=auto, max_depth=15 \n",
      "[CV]  n_estimators=800, min_samples_split=20, min_samples_leaf=20, max_features=auto, max_depth=15, total=   0.9s\n",
      "[CV] n_estimators=800, min_samples_split=20, min_samples_leaf=20, max_features=auto, max_depth=15 \n",
      "[CV]  n_estimators=800, min_samples_split=20, min_samples_leaf=20, max_features=auto, max_depth=15, total=   0.9s\n",
      "[CV] n_estimators=800, min_samples_split=20, min_samples_leaf=20, max_features=auto, max_depth=15 \n",
      "[CV]  n_estimators=800, min_samples_split=20, min_samples_leaf=20, max_features=auto, max_depth=15, total=   0.9s\n",
      "[CV] n_estimators=800, min_samples_split=20, min_samples_leaf=20, max_features=auto, max_depth=15 \n",
      "[CV]  n_estimators=800, min_samples_split=20, min_samples_leaf=20, max_features=auto, max_depth=15, total=   0.9s\n",
      "[CV] n_estimators=800, min_samples_split=20, min_samples_leaf=20, max_features=auto, max_depth=15 \n",
      "[CV]  n_estimators=800, min_samples_split=20, min_samples_leaf=20, max_features=auto, max_depth=15, total=   1.0s\n",
      "[CV] n_estimators=800, min_samples_split=20, min_samples_leaf=20, max_features=auto, max_depth=15 \n",
      "[CV]  n_estimators=800, min_samples_split=20, min_samples_leaf=20, max_features=auto, max_depth=15, total=   0.9s\n",
      "[CV] n_estimators=1000, min_samples_split=50, min_samples_leaf=50, max_features=sqrt, max_depth=30 \n",
      "[CV]  n_estimators=1000, min_samples_split=50, min_samples_leaf=50, max_features=sqrt, max_depth=30, total=   1.1s\n",
      "[CV] n_estimators=1000, min_samples_split=50, min_samples_leaf=50, max_features=sqrt, max_depth=30 \n",
      "[CV]  n_estimators=1000, min_samples_split=50, min_samples_leaf=50, max_features=sqrt, max_depth=30, total=   1.1s\n",
      "[CV] n_estimators=1000, min_samples_split=50, min_samples_leaf=50, max_features=sqrt, max_depth=30 \n",
      "[CV]  n_estimators=1000, min_samples_split=50, min_samples_leaf=50, max_features=sqrt, max_depth=30, total=   1.1s\n",
      "[CV] n_estimators=1000, min_samples_split=50, min_samples_leaf=50, max_features=sqrt, max_depth=30 \n",
      "[CV]  n_estimators=1000, min_samples_split=50, min_samples_leaf=50, max_features=sqrt, max_depth=30, total=   1.1s\n",
      "[CV] n_estimators=1000, min_samples_split=50, min_samples_leaf=50, max_features=sqrt, max_depth=30 \n",
      "[CV]  n_estimators=1000, min_samples_split=50, min_samples_leaf=50, max_features=sqrt, max_depth=30, total=   1.1s\n",
      "[CV] n_estimators=1000, min_samples_split=50, min_samples_leaf=50, max_features=sqrt, max_depth=30 \n",
      "[CV]  n_estimators=1000, min_samples_split=50, min_samples_leaf=50, max_features=sqrt, max_depth=30, total=   1.1s\n",
      "[CV] n_estimators=1000, min_samples_split=50, min_samples_leaf=50, max_features=sqrt, max_depth=30 \n",
      "[CV]  n_estimators=1000, min_samples_split=50, min_samples_leaf=50, max_features=sqrt, max_depth=30, total=   1.0s\n",
      "[CV] n_estimators=1000, min_samples_split=50, min_samples_leaf=50, max_features=sqrt, max_depth=30 \n",
      "[CV]  n_estimators=1000, min_samples_split=50, min_samples_leaf=50, max_features=sqrt, max_depth=30, total=   1.4s\n",
      "[CV] n_estimators=1000, min_samples_split=50, min_samples_leaf=50, max_features=sqrt, max_depth=30 \n",
      "[CV]  n_estimators=1000, min_samples_split=50, min_samples_leaf=50, max_features=sqrt, max_depth=30, total=   1.0s\n",
      "[CV] n_estimators=1000, min_samples_split=50, min_samples_leaf=50, max_features=sqrt, max_depth=30 \n",
      "[CV]  n_estimators=1000, min_samples_split=50, min_samples_leaf=50, max_features=sqrt, max_depth=30, total=   1.1s\n",
      "[CV] n_estimators=100, min_samples_split=5, min_samples_leaf=5, max_features=sqrt, max_depth=5 \n",
      "[CV]  n_estimators=100, min_samples_split=5, min_samples_leaf=5, max_features=sqrt, max_depth=5, total=   0.0s\n",
      "[CV] n_estimators=100, min_samples_split=5, min_samples_leaf=5, max_features=sqrt, max_depth=5 \n",
      "[CV]  n_estimators=100, min_samples_split=5, min_samples_leaf=5, max_features=sqrt, max_depth=5, total=   0.0s\n",
      "[CV] n_estimators=100, min_samples_split=5, min_samples_leaf=5, max_features=sqrt, max_depth=5 \n",
      "[CV]  n_estimators=100, min_samples_split=5, min_samples_leaf=5, max_features=sqrt, max_depth=5, total=   0.0s\n",
      "[CV] n_estimators=100, min_samples_split=5, min_samples_leaf=5, max_features=sqrt, max_depth=5 \n",
      "[CV]  n_estimators=100, min_samples_split=5, min_samples_leaf=5, max_features=sqrt, max_depth=5, total=   0.0s\n",
      "[CV] n_estimators=100, min_samples_split=5, min_samples_leaf=5, max_features=sqrt, max_depth=5 \n",
      "[CV]  n_estimators=100, min_samples_split=5, min_samples_leaf=5, max_features=sqrt, max_depth=5, total=   0.0s\n",
      "[CV] n_estimators=100, min_samples_split=5, min_samples_leaf=5, max_features=sqrt, max_depth=5 \n",
      "[CV]  n_estimators=100, min_samples_split=5, min_samples_leaf=5, max_features=sqrt, max_depth=5, total=   0.0s\n",
      "[CV] n_estimators=100, min_samples_split=5, min_samples_leaf=5, max_features=sqrt, max_depth=5 \n",
      "[CV]  n_estimators=100, min_samples_split=5, min_samples_leaf=5, max_features=sqrt, max_depth=5, total=   0.0s\n",
      "[CV] n_estimators=100, min_samples_split=5, min_samples_leaf=5, max_features=sqrt, max_depth=5 \n",
      "[CV]  n_estimators=100, min_samples_split=5, min_samples_leaf=5, max_features=sqrt, max_depth=5, total=   0.0s\n",
      "[CV] n_estimators=100, min_samples_split=5, min_samples_leaf=5, max_features=sqrt, max_depth=5 \n",
      "[CV]  n_estimators=100, min_samples_split=5, min_samples_leaf=5, max_features=sqrt, max_depth=5, total=   0.0s\n",
      "[CV] n_estimators=100, min_samples_split=5, min_samples_leaf=5, max_features=sqrt, max_depth=5 \n",
      "[CV]  n_estimators=100, min_samples_split=5, min_samples_leaf=5, max_features=sqrt, max_depth=5, total=   0.0s\n",
      "[CV] n_estimators=200, min_samples_split=5, min_samples_leaf=50, max_features=auto, max_depth=20 \n",
      "[CV]  n_estimators=200, min_samples_split=5, min_samples_leaf=50, max_features=auto, max_depth=20, total=   0.2s\n",
      "[CV] n_estimators=200, min_samples_split=5, min_samples_leaf=50, max_features=auto, max_depth=20 \n",
      "[CV]  n_estimators=200, min_samples_split=5, min_samples_leaf=50, max_features=auto, max_depth=20, total=   0.1s\n",
      "[CV] n_estimators=200, min_samples_split=5, min_samples_leaf=50, max_features=auto, max_depth=20 \n",
      "[CV]  n_estimators=200, min_samples_split=5, min_samples_leaf=50, max_features=auto, max_depth=20, total=   0.1s\n",
      "[CV] n_estimators=200, min_samples_split=5, min_samples_leaf=50, max_features=auto, max_depth=20 \n",
      "[CV]  n_estimators=200, min_samples_split=5, min_samples_leaf=50, max_features=auto, max_depth=20, total=   0.1s\n",
      "[CV] n_estimators=200, min_samples_split=5, min_samples_leaf=50, max_features=auto, max_depth=20 \n",
      "[CV]  n_estimators=200, min_samples_split=5, min_samples_leaf=50, max_features=auto, max_depth=20, total=   0.2s\n",
      "[CV] n_estimators=200, min_samples_split=5, min_samples_leaf=50, max_features=auto, max_depth=20 \n",
      "[CV]  n_estimators=200, min_samples_split=5, min_samples_leaf=50, max_features=auto, max_depth=20, total=   0.1s\n",
      "[CV] n_estimators=200, min_samples_split=5, min_samples_leaf=50, max_features=auto, max_depth=20 \n",
      "[CV]  n_estimators=200, min_samples_split=5, min_samples_leaf=50, max_features=auto, max_depth=20, total=   0.2s\n",
      "[CV] n_estimators=200, min_samples_split=5, min_samples_leaf=50, max_features=auto, max_depth=20 \n",
      "[CV]  n_estimators=200, min_samples_split=5, min_samples_leaf=50, max_features=auto, max_depth=20, total=   0.2s\n",
      "[CV] n_estimators=200, min_samples_split=5, min_samples_leaf=50, max_features=auto, max_depth=20 \n",
      "[CV]  n_estimators=200, min_samples_split=5, min_samples_leaf=50, max_features=auto, max_depth=20, total=   0.2s\n",
      "[CV] n_estimators=200, min_samples_split=5, min_samples_leaf=50, max_features=auto, max_depth=20 \n",
      "[CV]  n_estimators=200, min_samples_split=5, min_samples_leaf=50, max_features=auto, max_depth=20, total=   0.1s\n",
      "[CV] n_estimators=400, min_samples_split=50, min_samples_leaf=50, max_features=auto, max_depth=10 \n"
     ]
    },
    {
     "name": "stdout",
     "output_type": "stream",
     "text": [
      "[CV]  n_estimators=400, min_samples_split=50, min_samples_leaf=50, max_features=auto, max_depth=10, total=   0.4s\n",
      "[CV] n_estimators=400, min_samples_split=50, min_samples_leaf=50, max_features=auto, max_depth=10 \n",
      "[CV]  n_estimators=400, min_samples_split=50, min_samples_leaf=50, max_features=auto, max_depth=10, total=   0.4s\n",
      "[CV] n_estimators=400, min_samples_split=50, min_samples_leaf=50, max_features=auto, max_depth=10 \n",
      "[CV]  n_estimators=400, min_samples_split=50, min_samples_leaf=50, max_features=auto, max_depth=10, total=   0.4s\n",
      "[CV] n_estimators=400, min_samples_split=50, min_samples_leaf=50, max_features=auto, max_depth=10 \n",
      "[CV]  n_estimators=400, min_samples_split=50, min_samples_leaf=50, max_features=auto, max_depth=10, total=   0.4s\n",
      "[CV] n_estimators=400, min_samples_split=50, min_samples_leaf=50, max_features=auto, max_depth=10 \n",
      "[CV]  n_estimators=400, min_samples_split=50, min_samples_leaf=50, max_features=auto, max_depth=10, total=   0.4s\n",
      "[CV] n_estimators=400, min_samples_split=50, min_samples_leaf=50, max_features=auto, max_depth=10 \n",
      "[CV]  n_estimators=400, min_samples_split=50, min_samples_leaf=50, max_features=auto, max_depth=10, total=   0.4s\n",
      "[CV] n_estimators=400, min_samples_split=50, min_samples_leaf=50, max_features=auto, max_depth=10 \n",
      "[CV]  n_estimators=400, min_samples_split=50, min_samples_leaf=50, max_features=auto, max_depth=10, total=   0.4s\n",
      "[CV] n_estimators=400, min_samples_split=50, min_samples_leaf=50, max_features=auto, max_depth=10 \n",
      "[CV]  n_estimators=400, min_samples_split=50, min_samples_leaf=50, max_features=auto, max_depth=10, total=   0.4s\n",
      "[CV] n_estimators=400, min_samples_split=50, min_samples_leaf=50, max_features=auto, max_depth=10 \n",
      "[CV]  n_estimators=400, min_samples_split=50, min_samples_leaf=50, max_features=auto, max_depth=10, total=   0.4s\n",
      "[CV] n_estimators=400, min_samples_split=50, min_samples_leaf=50, max_features=auto, max_depth=10 \n",
      "[CV]  n_estimators=400, min_samples_split=50, min_samples_leaf=50, max_features=auto, max_depth=10, total=   0.4s\n",
      "[CV] n_estimators=600, min_samples_split=50, min_samples_leaf=20, max_features=auto, max_depth=10 \n",
      "[CV]  n_estimators=600, min_samples_split=50, min_samples_leaf=20, max_features=auto, max_depth=10, total=   0.6s\n",
      "[CV] n_estimators=600, min_samples_split=50, min_samples_leaf=20, max_features=auto, max_depth=10 \n",
      "[CV]  n_estimators=600, min_samples_split=50, min_samples_leaf=20, max_features=auto, max_depth=10, total=   0.6s\n",
      "[CV] n_estimators=600, min_samples_split=50, min_samples_leaf=20, max_features=auto, max_depth=10 \n",
      "[CV]  n_estimators=600, min_samples_split=50, min_samples_leaf=20, max_features=auto, max_depth=10, total=   0.6s\n",
      "[CV] n_estimators=600, min_samples_split=50, min_samples_leaf=20, max_features=auto, max_depth=10 \n",
      "[CV]  n_estimators=600, min_samples_split=50, min_samples_leaf=20, max_features=auto, max_depth=10, total=   0.6s\n",
      "[CV] n_estimators=600, min_samples_split=50, min_samples_leaf=20, max_features=auto, max_depth=10 \n",
      "[CV]  n_estimators=600, min_samples_split=50, min_samples_leaf=20, max_features=auto, max_depth=10, total=   0.7s\n",
      "[CV] n_estimators=600, min_samples_split=50, min_samples_leaf=20, max_features=auto, max_depth=10 \n",
      "[CV]  n_estimators=600, min_samples_split=50, min_samples_leaf=20, max_features=auto, max_depth=10, total=   0.7s\n",
      "[CV] n_estimators=600, min_samples_split=50, min_samples_leaf=20, max_features=auto, max_depth=10 \n",
      "[CV]  n_estimators=600, min_samples_split=50, min_samples_leaf=20, max_features=auto, max_depth=10, total=   0.6s\n",
      "[CV] n_estimators=600, min_samples_split=50, min_samples_leaf=20, max_features=auto, max_depth=10 \n",
      "[CV]  n_estimators=600, min_samples_split=50, min_samples_leaf=20, max_features=auto, max_depth=10, total=   0.6s\n",
      "[CV] n_estimators=600, min_samples_split=50, min_samples_leaf=20, max_features=auto, max_depth=10 \n",
      "[CV]  n_estimators=600, min_samples_split=50, min_samples_leaf=20, max_features=auto, max_depth=10, total=   0.7s\n",
      "[CV] n_estimators=600, min_samples_split=50, min_samples_leaf=20, max_features=auto, max_depth=10 \n",
      "[CV]  n_estimators=600, min_samples_split=50, min_samples_leaf=20, max_features=auto, max_depth=10, total=   0.6s\n",
      "[CV] n_estimators=300, min_samples_split=10, min_samples_leaf=50, max_features=sqrt, max_depth=30 \n",
      "[CV]  n_estimators=300, min_samples_split=10, min_samples_leaf=50, max_features=sqrt, max_depth=30, total=   0.2s\n",
      "[CV] n_estimators=300, min_samples_split=10, min_samples_leaf=50, max_features=sqrt, max_depth=30 \n",
      "[CV]  n_estimators=300, min_samples_split=10, min_samples_leaf=50, max_features=sqrt, max_depth=30, total=   0.3s\n",
      "[CV] n_estimators=300, min_samples_split=10, min_samples_leaf=50, max_features=sqrt, max_depth=30 \n",
      "[CV]  n_estimators=300, min_samples_split=10, min_samples_leaf=50, max_features=sqrt, max_depth=30, total=   0.3s\n",
      "[CV] n_estimators=300, min_samples_split=10, min_samples_leaf=50, max_features=sqrt, max_depth=30 \n",
      "[CV]  n_estimators=300, min_samples_split=10, min_samples_leaf=50, max_features=sqrt, max_depth=30, total=   0.2s\n",
      "[CV] n_estimators=300, min_samples_split=10, min_samples_leaf=50, max_features=sqrt, max_depth=30 \n",
      "[CV]  n_estimators=300, min_samples_split=10, min_samples_leaf=50, max_features=sqrt, max_depth=30, total=   0.2s\n",
      "[CV] n_estimators=300, min_samples_split=10, min_samples_leaf=50, max_features=sqrt, max_depth=30 \n",
      "[CV]  n_estimators=300, min_samples_split=10, min_samples_leaf=50, max_features=sqrt, max_depth=30, total=   0.2s\n",
      "[CV] n_estimators=300, min_samples_split=10, min_samples_leaf=50, max_features=sqrt, max_depth=30 \n",
      "[CV]  n_estimators=300, min_samples_split=10, min_samples_leaf=50, max_features=sqrt, max_depth=30, total=   0.2s\n",
      "[CV] n_estimators=300, min_samples_split=10, min_samples_leaf=50, max_features=sqrt, max_depth=30 \n",
      "[CV]  n_estimators=300, min_samples_split=10, min_samples_leaf=50, max_features=sqrt, max_depth=30, total=   0.2s\n",
      "[CV] n_estimators=300, min_samples_split=10, min_samples_leaf=50, max_features=sqrt, max_depth=30 \n",
      "[CV]  n_estimators=300, min_samples_split=10, min_samples_leaf=50, max_features=sqrt, max_depth=30, total=   0.3s\n",
      "[CV] n_estimators=300, min_samples_split=10, min_samples_leaf=50, max_features=sqrt, max_depth=30 \n",
      "[CV]  n_estimators=300, min_samples_split=10, min_samples_leaf=50, max_features=sqrt, max_depth=30, total=   0.2s\n",
      "[CV] n_estimators=100, min_samples_split=20, min_samples_leaf=20, max_features=sqrt, max_depth=15 \n",
      "[CV]  n_estimators=100, min_samples_split=20, min_samples_leaf=20, max_features=sqrt, max_depth=15, total=   0.0s\n",
      "[CV] n_estimators=100, min_samples_split=20, min_samples_leaf=20, max_features=sqrt, max_depth=15 \n",
      "[CV]  n_estimators=100, min_samples_split=20, min_samples_leaf=20, max_features=sqrt, max_depth=15, total=   0.0s\n",
      "[CV] n_estimators=100, min_samples_split=20, min_samples_leaf=20, max_features=sqrt, max_depth=15 \n",
      "[CV]  n_estimators=100, min_samples_split=20, min_samples_leaf=20, max_features=sqrt, max_depth=15, total=   0.0s\n",
      "[CV] n_estimators=100, min_samples_split=20, min_samples_leaf=20, max_features=sqrt, max_depth=15 \n",
      "[CV]  n_estimators=100, min_samples_split=20, min_samples_leaf=20, max_features=sqrt, max_depth=15, total=   0.0s\n",
      "[CV] n_estimators=100, min_samples_split=20, min_samples_leaf=20, max_features=sqrt, max_depth=15 \n",
      "[CV]  n_estimators=100, min_samples_split=20, min_samples_leaf=20, max_features=sqrt, max_depth=15, total=   0.1s\n",
      "[CV] n_estimators=100, min_samples_split=20, min_samples_leaf=20, max_features=sqrt, max_depth=15 \n",
      "[CV]  n_estimators=100, min_samples_split=20, min_samples_leaf=20, max_features=sqrt, max_depth=15, total=   0.0s\n",
      "[CV] n_estimators=100, min_samples_split=20, min_samples_leaf=20, max_features=sqrt, max_depth=15 \n",
      "[CV]  n_estimators=100, min_samples_split=20, min_samples_leaf=20, max_features=sqrt, max_depth=15, total=   0.0s\n",
      "[CV] n_estimators=100, min_samples_split=20, min_samples_leaf=20, max_features=sqrt, max_depth=15 \n",
      "[CV]  n_estimators=100, min_samples_split=20, min_samples_leaf=20, max_features=sqrt, max_depth=15, total=   0.0s\n",
      "[CV] n_estimators=100, min_samples_split=20, min_samples_leaf=20, max_features=sqrt, max_depth=15 \n",
      "[CV]  n_estimators=100, min_samples_split=20, min_samples_leaf=20, max_features=sqrt, max_depth=15, total=   0.0s\n",
      "[CV] n_estimators=100, min_samples_split=20, min_samples_leaf=20, max_features=sqrt, max_depth=15 \n"
     ]
    },
    {
     "name": "stdout",
     "output_type": "stream",
     "text": [
      "[CV]  n_estimators=100, min_samples_split=20, min_samples_leaf=20, max_features=sqrt, max_depth=15, total=   0.0s\n",
      "[CV] n_estimators=500, min_samples_split=10, min_samples_leaf=5, max_features=auto, max_depth=30 \n",
      "[CV]  n_estimators=500, min_samples_split=10, min_samples_leaf=5, max_features=auto, max_depth=30, total=   0.6s\n",
      "[CV] n_estimators=500, min_samples_split=10, min_samples_leaf=5, max_features=auto, max_depth=30 \n",
      "[CV]  n_estimators=500, min_samples_split=10, min_samples_leaf=5, max_features=auto, max_depth=30, total=   0.5s\n",
      "[CV] n_estimators=500, min_samples_split=10, min_samples_leaf=5, max_features=auto, max_depth=30 \n",
      "[CV]  n_estimators=500, min_samples_split=10, min_samples_leaf=5, max_features=auto, max_depth=30, total=   0.6s\n",
      "[CV] n_estimators=500, min_samples_split=10, min_samples_leaf=5, max_features=auto, max_depth=30 \n",
      "[CV]  n_estimators=500, min_samples_split=10, min_samples_leaf=5, max_features=auto, max_depth=30, total=   0.6s\n",
      "[CV] n_estimators=500, min_samples_split=10, min_samples_leaf=5, max_features=auto, max_depth=30 \n",
      "[CV]  n_estimators=500, min_samples_split=10, min_samples_leaf=5, max_features=auto, max_depth=30, total=   0.6s\n",
      "[CV] n_estimators=500, min_samples_split=10, min_samples_leaf=5, max_features=auto, max_depth=30 \n",
      "[CV]  n_estimators=500, min_samples_split=10, min_samples_leaf=5, max_features=auto, max_depth=30, total=   0.6s\n",
      "[CV] n_estimators=500, min_samples_split=10, min_samples_leaf=5, max_features=auto, max_depth=30 \n",
      "[CV]  n_estimators=500, min_samples_split=10, min_samples_leaf=5, max_features=auto, max_depth=30, total=   0.6s\n",
      "[CV] n_estimators=500, min_samples_split=10, min_samples_leaf=5, max_features=auto, max_depth=30 \n",
      "[CV]  n_estimators=500, min_samples_split=10, min_samples_leaf=5, max_features=auto, max_depth=30, total=   0.5s\n",
      "[CV] n_estimators=500, min_samples_split=10, min_samples_leaf=5, max_features=auto, max_depth=30 \n",
      "[CV]  n_estimators=500, min_samples_split=10, min_samples_leaf=5, max_features=auto, max_depth=30, total=   0.6s\n",
      "[CV] n_estimators=500, min_samples_split=10, min_samples_leaf=5, max_features=auto, max_depth=30 \n",
      "[CV]  n_estimators=500, min_samples_split=10, min_samples_leaf=5, max_features=auto, max_depth=30, total=   0.6s\n",
      "[CV] n_estimators=800, min_samples_split=20, min_samples_leaf=50, max_features=auto, max_depth=15 \n",
      "[CV]  n_estimators=800, min_samples_split=20, min_samples_leaf=50, max_features=auto, max_depth=15, total=   0.8s\n",
      "[CV] n_estimators=800, min_samples_split=20, min_samples_leaf=50, max_features=auto, max_depth=15 \n",
      "[CV]  n_estimators=800, min_samples_split=20, min_samples_leaf=50, max_features=auto, max_depth=15, total=   0.8s\n",
      "[CV] n_estimators=800, min_samples_split=20, min_samples_leaf=50, max_features=auto, max_depth=15 \n",
      "[CV]  n_estimators=800, min_samples_split=20, min_samples_leaf=50, max_features=auto, max_depth=15, total=   0.8s\n",
      "[CV] n_estimators=800, min_samples_split=20, min_samples_leaf=50, max_features=auto, max_depth=15 \n",
      "[CV]  n_estimators=800, min_samples_split=20, min_samples_leaf=50, max_features=auto, max_depth=15, total=   0.9s\n",
      "[CV] n_estimators=800, min_samples_split=20, min_samples_leaf=50, max_features=auto, max_depth=15 \n",
      "[CV]  n_estimators=800, min_samples_split=20, min_samples_leaf=50, max_features=auto, max_depth=15, total=   1.0s\n",
      "[CV] n_estimators=800, min_samples_split=20, min_samples_leaf=50, max_features=auto, max_depth=15 \n",
      "[CV]  n_estimators=800, min_samples_split=20, min_samples_leaf=50, max_features=auto, max_depth=15, total=   0.8s\n",
      "[CV] n_estimators=800, min_samples_split=20, min_samples_leaf=50, max_features=auto, max_depth=15 \n",
      "[CV]  n_estimators=800, min_samples_split=20, min_samples_leaf=50, max_features=auto, max_depth=15, total=   0.9s\n",
      "[CV] n_estimators=800, min_samples_split=20, min_samples_leaf=50, max_features=auto, max_depth=15 \n",
      "[CV]  n_estimators=800, min_samples_split=20, min_samples_leaf=50, max_features=auto, max_depth=15, total=   0.9s\n",
      "[CV] n_estimators=800, min_samples_split=20, min_samples_leaf=50, max_features=auto, max_depth=15 \n",
      "[CV]  n_estimators=800, min_samples_split=20, min_samples_leaf=50, max_features=auto, max_depth=15, total=   0.9s\n",
      "[CV] n_estimators=800, min_samples_split=20, min_samples_leaf=50, max_features=auto, max_depth=15 \n",
      "[CV]  n_estimators=800, min_samples_split=20, min_samples_leaf=50, max_features=auto, max_depth=15, total=   0.9s\n"
     ]
    },
    {
     "name": "stderr",
     "output_type": "stream",
     "text": [
      "[Parallel(n_jobs=1)]: Done 100 out of 100 | elapsed:  1.0min finished\n"
     ]
    },
    {
     "data": {
      "text/plain": [
       "RandomizedSearchCV(cv=10, error_score='raise',\n",
       "          estimator=RandomForestRegressor(bootstrap=True, criterion='mse', max_depth=None,\n",
       "           max_features='auto', max_leaf_nodes=None,\n",
       "           min_impurity_decrease=0.0, min_impurity_split=None,\n",
       "           min_samples_leaf=1, min_samples_split=2,\n",
       "           min_weight_fraction_leaf=0.0, n_estimators=10, n_jobs=1,\n",
       "           oob_score=False, random_state=None, verbose=0, warm_start=False),\n",
       "          fit_params=None, iid=True, n_iter=10, n_jobs=1,\n",
       "          param_distributions={'n_estimators': [100, 200, 300, 400, 500, 600, 700, 800, 900, 1000], 'max_features': ['auto', 'sqrt'], 'max_depth': [5, 10, 15, 20, 25, 30], 'min_samples_split': [2, 5, 10, 20, 50], 'min_samples_leaf': [2, 5, 10, 12, 20, 50]},\n",
       "          pre_dispatch='2*n_jobs', random_state=None, refit=True,\n",
       "          return_train_score='warn', scoring='neg_mean_squared_error',\n",
       "          verbose=2)"
      ]
     },
     "execution_count": 123,
     "metadata": {},
     "output_type": "execute_result"
    }
   ],
   "source": [
    "# Using the various hyper parameters for RF Reggressor model from grid_params dict and fitting it to X_train and y_train\n",
    "rand_ser_cv.fit(X_train,y_train)"
   ]
  },
  {
   "cell_type": "code",
   "execution_count": 124,
   "id": "baf4e9d4",
   "metadata": {},
   "outputs": [
    {
     "data": {
      "text/plain": [
       "{'n_estimators': 500,\n",
       " 'min_samples_split': 10,\n",
       " 'min_samples_leaf': 5,\n",
       " 'max_features': 'auto',\n",
       " 'max_depth': 30}"
      ]
     },
     "execution_count": 124,
     "metadata": {},
     "output_type": "execute_result"
    }
   ],
   "source": [
    "rand_ser_cv.best_params_"
   ]
  },
  {
   "cell_type": "code",
   "execution_count": 125,
   "id": "0c049ef5",
   "metadata": {},
   "outputs": [
    {
     "data": {
      "text/plain": [
       "-4.940551796373687"
      ]
     },
     "execution_count": 125,
     "metadata": {},
     "output_type": "execute_result"
    }
   ],
   "source": [
    "rand_ser_cv.best_score_"
   ]
  },
  {
   "cell_type": "code",
   "execution_count": 126,
   "id": "fadcd87d",
   "metadata": {},
   "outputs": [
    {
     "data": {
      "text/plain": [
       "array([ 6.99354665,  0.52125396,  4.81139316,  8.6040292 , 11.66928968,\n",
       "        5.0237656 ,  3.3366521 ,  0.41307866,  3.97358384,  4.73831304,\n",
       "        2.97087979,  0.68995547,  4.86974744,  7.2871153 ,  7.53575281,\n",
       "       11.63630042,  7.12687564,  4.05201166,  0.49083693,  1.34270948,\n",
       "        3.33544673,  4.88159019,  5.10279416, 10.58615676,  0.18673495,\n",
       "        0.70204779,  0.307136  ,  0.69384253,  0.52231683,  5.23078267,\n",
       "        2.81726954,  5.98767323,  0.49565539,  7.36625555,  3.48207727,\n",
       "        1.24113611,  5.63677423,  5.33734751,  0.20954197,  8.78989069,\n",
       "        7.83926227, 20.08134409,  4.83114262,  4.53419345,  5.64072004,\n",
       "       10.94087755,  0.25921624,  0.80911257,  5.10953766,  6.71244925,\n",
       "        6.84268556,  3.28701902,  5.02177643, 20.08246991,  1.22601636,\n",
       "        1.15202206,  0.39227362,  2.71220395,  3.62956191,  2.36635609,\n",
       "        4.9758088 ,  5.80034581,  3.07026623, 20.14293926,  4.55954297,\n",
       "        5.70560863, 10.15857974,  5.85355809,  0.4118744 ,  3.05022948,\n",
       "        2.68932125,  3.02865547,  0.41275259,  5.1879075 ,  0.48991013,\n",
       "        4.90693135,  0.44413136, 10.36941888,  1.19591346,  2.84704146,\n",
       "        0.41172549, 10.84787269,  4.81985523,  4.88910666,  5.88608631,\n",
       "        1.10681116,  4.88647833,  5.94172325,  0.5070578 ,  5.01818731,\n",
       "        0.404944  ])"
      ]
     },
     "execution_count": 126,
     "metadata": {},
     "output_type": "execute_result"
    }
   ],
   "source": [
    "# Getting predictions from RF model\n",
    "y_pred = rand_ser_cv.predict(X_test)\n",
    "y_pred"
   ]
  },
  {
   "cell_type": "code",
   "execution_count": 127,
   "id": "b9f94e8a",
   "metadata": {},
   "outputs": [
    {
     "data": {
      "text/plain": [
       "<AxesSubplot:xlabel='Selling_Price'>"
      ]
     },
     "execution_count": 127,
     "metadata": {},
     "output_type": "execute_result"
    },
    {
     "data": {
      "image/png": "[encoded data removed]",
      "text/plain": [
       "<Figure size 432x288 with 1 Axes>"
      ]
     },
     "metadata": {
      "needs_background": "light"
     },
     "output_type": "display_data"
    }
   ],
   "source": [
    "sns.distplot(y_test-y_pred)"
   ]
  },
  {
   "cell_type": "code",
   "execution_count": 128,
   "id": "673d6054",
   "metadata": {},
   "outputs": [
    {
     "data": {
      "text/plain": [
       "<AxesSubplot:xlabel='Selling_Price'>"
      ]
     },
     "execution_count": 128,
     "metadata": {},
     "output_type": "execute_result"
    },
    {
     "data": {
      "image/png": "[encoded data removed]",
      "text/plain": [
       "<Figure size 432x288 with 1 Axes>"
      ]
     },
     "metadata": {
      "needs_background": "light"
     },
     "output_type": "display_data"
    }
   ],
   "source": [
    "sns.scatterplot(y_test,y_pred)"
   ]
  },
  {
   "cell_type": "code",
   "execution_count": 129,
   "id": "c62488fa",
   "metadata": {},
   "outputs": [
    {
     "data": {
      "text/plain": [
       "<matplotlib.collections.PathCollection at 0x1f5681d4ef0>"
      ]
     },
     "execution_count": 129,
     "metadata": {},
     "output_type": "execute_result"
    },
    {
     "data": {
      "image/png": "[encoded data removed]",
      "text/plain": [
       "<Figure size 432x288 with 1 Axes>"
      ]
     },
     "metadata": {
      "needs_background": "light"
     },
     "output_type": "display_data"
    }
   ],
   "source": [
    "plt.scatter(y_test,y_pred)"
   ]
  },
  {
   "cell_type": "code",
   "execution_count": 142,
   "id": "89653cf5",
   "metadata": {},
   "outputs": [],
   "source": [
    "new_y = y_test.to_list()\n",
    "new_y_pred = y_pred.tolist()"
   ]
  },
  {
   "cell_type": "code",
   "execution_count": 146,
   "id": "25239802",
   "metadata": {},
   "outputs": [],
   "source": [
    "new_df = pd.DataFrame({\"target\":new_y,\"pred_target\":new_y_pred})"
   ]
  },
  {
   "cell_type": "code",
   "execution_count": 147,
   "id": "4c6eb48e",
   "metadata": {},
   "outputs": [
    {
     "data": {
      "text/html": [
       "<div>\n",
       "<style scoped>\n",
       "    .dataframe tbody tr th:only-of-type {\n",
       "        vertical-align: middle;\n",
       "    }\n",
       "\n",
       "    .dataframe tbody tr th {\n",
       "        vertical-align: top;\n",
       "    }\n",
       "\n",
       "    .dataframe thead th {\n",
       "        text-align: right;\n",
       "    }\n",
       "</style>\n",
       "<table border=\"1\" class=\"dataframe\">\n",
       "  <thead>\n",
       "    <tr style=\"text-align: right;\">\n",
       "      <th></th>\n",
       "      <th>target</th>\n",
       "      <th>pred_target</th>\n",
       "    </tr>\n",
       "  </thead>\n",
       "  <tbody>\n",
       "    <tr>\n",
       "      <th>0</th>\n",
       "      <td>8.25</td>\n",
       "      <td>6.993547</td>\n",
       "    </tr>\n",
       "    <tr>\n",
       "      <th>1</th>\n",
       "      <td>0.50</td>\n",
       "      <td>0.521254</td>\n",
       "    </tr>\n",
       "    <tr>\n",
       "      <th>2</th>\n",
       "      <td>5.25</td>\n",
       "      <td>4.811393</td>\n",
       "    </tr>\n",
       "    <tr>\n",
       "      <th>3</th>\n",
       "      <td>9.50</td>\n",
       "      <td>8.604029</td>\n",
       "    </tr>\n",
       "    <tr>\n",
       "      <th>4</th>\n",
       "      <td>18.00</td>\n",
       "      <td>11.669290</td>\n",
       "    </tr>\n",
       "    <tr>\n",
       "      <th>...</th>\n",
       "      <td>...</td>\n",
       "      <td>...</td>\n",
       "    </tr>\n",
       "    <tr>\n",
       "      <th>86</th>\n",
       "      <td>5.35</td>\n",
       "      <td>4.886478</td>\n",
       "    </tr>\n",
       "    <tr>\n",
       "      <th>87</th>\n",
       "      <td>5.50</td>\n",
       "      <td>5.941723</td>\n",
       "    </tr>\n",
       "    <tr>\n",
       "      <th>88</th>\n",
       "      <td>0.60</td>\n",
       "      <td>0.507058</td>\n",
       "    </tr>\n",
       "    <tr>\n",
       "      <th>89</th>\n",
       "      <td>5.30</td>\n",
       "      <td>5.018187</td>\n",
       "    </tr>\n",
       "    <tr>\n",
       "      <th>90</th>\n",
       "      <td>0.65</td>\n",
       "      <td>0.404944</td>\n",
       "    </tr>\n",
       "  </tbody>\n",
       "</table>\n",
       "<p>91 rows × 2 columns</p>\n",
       "</div>"
      ],
      "text/plain": [
       "    target  pred_target\n",
       "0     8.25     6.993547\n",
       "1     0.50     0.521254\n",
       "2     5.25     4.811393\n",
       "3     9.50     8.604029\n",
       "4    18.00    11.669290\n",
       "..     ...          ...\n",
       "86    5.35     4.886478\n",
       "87    5.50     5.941723\n",
       "88    0.60     0.507058\n",
       "89    5.30     5.018187\n",
       "90    0.65     0.404944\n",
       "\n",
       "[91 rows x 2 columns]"
      ]
     },
     "execution_count": 147,
     "metadata": {},
     "output_type": "execute_result"
    }
   ],
   "source": [
    "# Dataframe to show the target and predicted values for the given regression problems\n",
    "new_df"
   ]
  },
  {
   "cell_type": "markdown",
   "id": "b771af2e",
   "metadata": {},
   "source": [
    "**Saving the created RF model in the form of pickle file**"
   ]
  },
  {
   "cell_type": "code",
   "execution_count": 148,
   "id": "9383aa0e",
   "metadata": {},
   "outputs": [],
   "source": [
    "import pickle\n",
    "file = open(\"random_forest_regressor_model.pkl\",\"wb\")\n",
    "pickle.dump(rand_ser_cv,file)"
   ]
  },
  {
   "cell_type": "code",
   "execution_count": 150,
   "id": "0f6044d4",
   "metadata": {},
   "outputs": [
    {
     "name": "stdout",
     "output_type": "stream",
     "text": [
      "Requirement already satisfied: sklearn in c:\\users\\nagarajan-pc\\anaconda3\\envs\\cardekhoenv\\lib\\site-packages (0.0)\n",
      "Requirement already satisfied: scikit-learn in c:\\users\\nagarajan-pc\\anaconda3\\envs\\cardekhoenv\\lib\\site-packages (from sklearn) (0.22)\n",
      "Requirement already satisfied: numpy>=1.11.0 in c:\\users\\nagarajan-pc\\anaconda3\\envs\\cardekhoenv\\lib\\site-packages (from scikit-learn->sklearn) (1.22.4)\n",
      "Requirement already satisfied: joblib>=0.11 in c:\\users\\nagarajan-pc\\anaconda3\\envs\\cardekhoenv\\lib\\site-packages (from scikit-learn->sklearn) (1.1.0)\n",
      "Requirement already satisfied: scipy>=0.17.0 in c:\\users\\nagarajan-pc\\anaconda3\\envs\\cardekhoenv\\lib\\site-packages (from scikit-learn->sklearn) (1.8.1)\n"
     ]
    }
   ],
   "source": [
    "!pip install sklearn"
   ]
  },
  {
   "cell_type": "code",
   "execution_count": null,
   "id": "67041d3e",
   "metadata": {},
   "outputs": [],
   "source": []
  },
  {
   "cell_type": "code",
   "execution_count": null,
   "id": "a1cbe5ae",
   "metadata": {},
   "outputs": [],
   "source": []
  }
 ],
 "metadata": {
  "kernelspec": {
   "display_name": "Python 3",
   "language": "python",
   "name": "python3"
  },
  "language_info": {
   "codemirror_mode": {
    "name": "ipython",
    "version": 3
   },
   "file_extension": ".py",
   "mimetype": "text/x-python",
   "name": "python",
   "nbconvert_exporter": "python",
   "pygments_lexer": "ipython3",
   "version": "3.6.5"
  }
 },
 "nbformat": 4,
 "nbformat_minor": 5
}
